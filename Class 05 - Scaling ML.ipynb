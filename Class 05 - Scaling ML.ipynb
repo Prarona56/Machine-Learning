{
 "cells": [
  {
   "cell_type": "code",
   "execution_count": 4,
   "id": "8a02a061",
   "metadata": {},
   "outputs": [],
   "source": [
    "import pandas as pd\n",
    "import numpy as np"
   ]
  },
  {
   "cell_type": "code",
   "execution_count": 5,
   "id": "0c0dd504",
   "metadata": {},
   "outputs": [],
   "source": [
    "df = pd.read_csv('supershops.csv')"
   ]
  },
  {
   "cell_type": "code",
   "execution_count": 6,
   "id": "ffdcb977",
   "metadata": {},
   "outputs": [
    {
     "data": {
      "text/html": [
       "<div>\n",
       "<style scoped>\n",
       "    .dataframe tbody tr th:only-of-type {\n",
       "        vertical-align: middle;\n",
       "    }\n",
       "\n",
       "    .dataframe tbody tr th {\n",
       "        vertical-align: top;\n",
       "    }\n",
       "\n",
       "    .dataframe thead th {\n",
       "        text-align: right;\n",
       "    }\n",
       "</style>\n",
       "<table border=\"1\" class=\"dataframe\">\n",
       "  <thead>\n",
       "    <tr style=\"text-align: right;\">\n",
       "      <th></th>\n",
       "      <th>Marketing Spend</th>\n",
       "      <th>Administration</th>\n",
       "      <th>Transport</th>\n",
       "      <th>Area</th>\n",
       "      <th>Profit</th>\n",
       "    </tr>\n",
       "  </thead>\n",
       "  <tbody>\n",
       "    <tr>\n",
       "      <th>0</th>\n",
       "      <td>114523.61</td>\n",
       "      <td>136897.80</td>\n",
       "      <td>471784.10</td>\n",
       "      <td>Dhaka</td>\n",
       "      <td>192261.83</td>\n",
       "    </tr>\n",
       "    <tr>\n",
       "      <th>1</th>\n",
       "      <td>162597.70</td>\n",
       "      <td>151377.59</td>\n",
       "      <td>443898.53</td>\n",
       "      <td>Ctg</td>\n",
       "      <td>191792.06</td>\n",
       "    </tr>\n",
       "    <tr>\n",
       "      <th>2</th>\n",
       "      <td>153441.51</td>\n",
       "      <td>101145.55</td>\n",
       "      <td>407934.54</td>\n",
       "      <td>Rangpur</td>\n",
       "      <td>191050.39</td>\n",
       "    </tr>\n",
       "    <tr>\n",
       "      <th>3</th>\n",
       "      <td>144372.41</td>\n",
       "      <td>118671.85</td>\n",
       "      <td>383199.62</td>\n",
       "      <td>Dhaka</td>\n",
       "      <td>182901.99</td>\n",
       "    </tr>\n",
       "    <tr>\n",
       "      <th>4</th>\n",
       "      <td>142107.34</td>\n",
       "      <td>91391.77</td>\n",
       "      <td>366168.42</td>\n",
       "      <td>Rangpur</td>\n",
       "      <td>166187.94</td>\n",
       "    </tr>\n",
       "  </tbody>\n",
       "</table>\n",
       "</div>"
      ],
      "text/plain": [
       "   Marketing Spend  Administration  Transport     Area     Profit\n",
       "0        114523.61       136897.80  471784.10    Dhaka  192261.83\n",
       "1        162597.70       151377.59  443898.53      Ctg  191792.06\n",
       "2        153441.51       101145.55  407934.54  Rangpur  191050.39\n",
       "3        144372.41       118671.85  383199.62    Dhaka  182901.99\n",
       "4        142107.34        91391.77  366168.42  Rangpur  166187.94"
      ]
     },
     "execution_count": 6,
     "metadata": {},
     "output_type": "execute_result"
    }
   ],
   "source": [
    "df.head()"
   ]
  },
  {
   "cell_type": "markdown",
   "id": "d9bc2424",
   "metadata": {},
   "source": [
    "# Normalization"
   ]
  },
  {
   "cell_type": "code",
   "execution_count": 4,
   "id": "7ce2e941",
   "metadata": {},
   "outputs": [],
   "source": [
    "#Marketing Spend\n",
    "#https://scikit-learn.org/stable/modules/generated/sklearn.preprocessing.MinMaxScaler.html"
   ]
  },
  {
   "cell_type": "code",
   "execution_count": 5,
   "id": "9fc3a269",
   "metadata": {},
   "outputs": [],
   "source": [
    "from sklearn.preprocessing import MinMaxScaler\n",
    "m = MinMaxScaler() # m = MinMaxScaler(feature_range=(2, 5))"
   ]
  },
  {
   "cell_type": "code",
   "execution_count": 6,
   "id": "cbd3bcad",
   "metadata": {},
   "outputs": [],
   "source": [
    "df_mar = m.fit(df[['Marketing Spend']]) # trainging"
   ]
  },
  {
   "cell_type": "code",
   "execution_count": 7,
   "id": "040751e9",
   "metadata": {},
   "outputs": [
    {
     "data": {
      "text/plain": [
       "MinMaxScaler()"
      ]
     },
     "execution_count": 7,
     "metadata": {},
     "output_type": "execute_result"
    }
   ],
   "source": [
    "df_mar"
   ]
  },
  {
   "cell_type": "code",
   "execution_count": 8,
   "id": "3001b8f6",
   "metadata": {},
   "outputs": [
    {
     "data": {
      "text/html": [
       "<div>\n",
       "<style scoped>\n",
       "    .dataframe tbody tr th:only-of-type {\n",
       "        vertical-align: middle;\n",
       "    }\n",
       "\n",
       "    .dataframe tbody tr th {\n",
       "        vertical-align: top;\n",
       "    }\n",
       "\n",
       "    .dataframe thead th {\n",
       "        text-align: right;\n",
       "    }\n",
       "</style>\n",
       "<table border=\"1\" class=\"dataframe\">\n",
       "  <thead>\n",
       "    <tr style=\"text-align: right;\">\n",
       "      <th></th>\n",
       "      <th>Marketing Spend</th>\n",
       "      <th>Administration</th>\n",
       "      <th>Transport</th>\n",
       "      <th>Area</th>\n",
       "      <th>Profit</th>\n",
       "    </tr>\n",
       "  </thead>\n",
       "  <tbody>\n",
       "    <tr>\n",
       "      <th>0</th>\n",
       "      <td>114523.61</td>\n",
       "      <td>136897.80</td>\n",
       "      <td>471784.10</td>\n",
       "      <td>Dhaka</td>\n",
       "      <td>192261.83</td>\n",
       "    </tr>\n",
       "    <tr>\n",
       "      <th>1</th>\n",
       "      <td>162597.70</td>\n",
       "      <td>151377.59</td>\n",
       "      <td>443898.53</td>\n",
       "      <td>Ctg</td>\n",
       "      <td>191792.06</td>\n",
       "    </tr>\n",
       "    <tr>\n",
       "      <th>2</th>\n",
       "      <td>153441.51</td>\n",
       "      <td>101145.55</td>\n",
       "      <td>407934.54</td>\n",
       "      <td>Rangpur</td>\n",
       "      <td>191050.39</td>\n",
       "    </tr>\n",
       "    <tr>\n",
       "      <th>3</th>\n",
       "      <td>144372.41</td>\n",
       "      <td>118671.85</td>\n",
       "      <td>383199.62</td>\n",
       "      <td>Dhaka</td>\n",
       "      <td>182901.99</td>\n",
       "    </tr>\n",
       "    <tr>\n",
       "      <th>4</th>\n",
       "      <td>142107.34</td>\n",
       "      <td>91391.77</td>\n",
       "      <td>366168.42</td>\n",
       "      <td>Rangpur</td>\n",
       "      <td>166187.94</td>\n",
       "    </tr>\n",
       "  </tbody>\n",
       "</table>\n",
       "</div>"
      ],
      "text/plain": [
       "   Marketing Spend  Administration  Transport     Area     Profit\n",
       "0        114523.61       136897.80  471784.10    Dhaka  192261.83\n",
       "1        162597.70       151377.59  443898.53      Ctg  191792.06\n",
       "2        153441.51       101145.55  407934.54  Rangpur  191050.39\n",
       "3        144372.41       118671.85  383199.62    Dhaka  182901.99\n",
       "4        142107.34        91391.77  366168.42  Rangpur  166187.94"
      ]
     },
     "execution_count": 8,
     "metadata": {},
     "output_type": "execute_result"
    }
   ],
   "source": [
    "df.head()"
   ]
  },
  {
   "cell_type": "code",
   "execution_count": 9,
   "id": "08e9d4d5",
   "metadata": {},
   "outputs": [],
   "source": [
    "df[['Marketing Spend']] = m.transform(df[['Marketing Spend']]) #transforming"
   ]
  },
  {
   "cell_type": "code",
   "execution_count": 10,
   "id": "a95355c9",
   "metadata": {},
   "outputs": [
    {
     "data": {
      "text/html": [
       "<div>\n",
       "<style scoped>\n",
       "    .dataframe tbody tr th:only-of-type {\n",
       "        vertical-align: middle;\n",
       "    }\n",
       "\n",
       "    .dataframe tbody tr th {\n",
       "        vertical-align: top;\n",
       "    }\n",
       "\n",
       "    .dataframe thead th {\n",
       "        text-align: right;\n",
       "    }\n",
       "</style>\n",
       "<table border=\"1\" class=\"dataframe\">\n",
       "  <thead>\n",
       "    <tr style=\"text-align: right;\">\n",
       "      <th></th>\n",
       "      <th>Marketing Spend</th>\n",
       "      <th>Administration</th>\n",
       "      <th>Transport</th>\n",
       "      <th>Area</th>\n",
       "      <th>Profit</th>\n",
       "    </tr>\n",
       "  </thead>\n",
       "  <tbody>\n",
       "    <tr>\n",
       "      <th>0</th>\n",
       "      <td>0.692617</td>\n",
       "      <td>136897.80</td>\n",
       "      <td>471784.10</td>\n",
       "      <td>Dhaka</td>\n",
       "      <td>192261.83</td>\n",
       "    </tr>\n",
       "    <tr>\n",
       "      <th>1</th>\n",
       "      <td>0.983359</td>\n",
       "      <td>151377.59</td>\n",
       "      <td>443898.53</td>\n",
       "      <td>Ctg</td>\n",
       "      <td>191792.06</td>\n",
       "    </tr>\n",
       "    <tr>\n",
       "      <th>2</th>\n",
       "      <td>0.927985</td>\n",
       "      <td>101145.55</td>\n",
       "      <td>407934.54</td>\n",
       "      <td>Rangpur</td>\n",
       "      <td>191050.39</td>\n",
       "    </tr>\n",
       "    <tr>\n",
       "      <th>3</th>\n",
       "      <td>0.873136</td>\n",
       "      <td>118671.85</td>\n",
       "      <td>383199.62</td>\n",
       "      <td>Dhaka</td>\n",
       "      <td>182901.99</td>\n",
       "    </tr>\n",
       "    <tr>\n",
       "      <th>4</th>\n",
       "      <td>0.859438</td>\n",
       "      <td>91391.77</td>\n",
       "      <td>366168.42</td>\n",
       "      <td>Rangpur</td>\n",
       "      <td>166187.94</td>\n",
       "    </tr>\n",
       "  </tbody>\n",
       "</table>\n",
       "</div>"
      ],
      "text/plain": [
       "   Marketing Spend  Administration  Transport     Area     Profit\n",
       "0         0.692617       136897.80  471784.10    Dhaka  192261.83\n",
       "1         0.983359       151377.59  443898.53      Ctg  191792.06\n",
       "2         0.927985       101145.55  407934.54  Rangpur  191050.39\n",
       "3         0.873136       118671.85  383199.62    Dhaka  182901.99\n",
       "4         0.859438        91391.77  366168.42  Rangpur  166187.94"
      ]
     },
     "execution_count": 10,
     "metadata": {},
     "output_type": "execute_result"
    }
   ],
   "source": [
    "df.head()"
   ]
  },
  {
   "cell_type": "code",
   "execution_count": 11,
   "id": "632078f6",
   "metadata": {},
   "outputs": [],
   "source": [
    "#fit and transform\n",
    "df[['Administration']] = m.fit_transform(df[['Administration']]) #fit_transform"
   ]
  },
  {
   "cell_type": "code",
   "execution_count": 12,
   "id": "2829f3b3",
   "metadata": {},
   "outputs": [
    {
     "data": {
      "text/html": [
       "<div>\n",
       "<style scoped>\n",
       "    .dataframe tbody tr th:only-of-type {\n",
       "        vertical-align: middle;\n",
       "    }\n",
       "\n",
       "    .dataframe tbody tr th {\n",
       "        vertical-align: top;\n",
       "    }\n",
       "\n",
       "    .dataframe thead th {\n",
       "        text-align: right;\n",
       "    }\n",
       "</style>\n",
       "<table border=\"1\" class=\"dataframe\">\n",
       "  <thead>\n",
       "    <tr style=\"text-align: right;\">\n",
       "      <th></th>\n",
       "      <th>Marketing Spend</th>\n",
       "      <th>Administration</th>\n",
       "      <th>Transport</th>\n",
       "      <th>Area</th>\n",
       "      <th>Profit</th>\n",
       "    </tr>\n",
       "  </thead>\n",
       "  <tbody>\n",
       "    <tr>\n",
       "      <th>0</th>\n",
       "      <td>0.692617</td>\n",
       "      <td>0.651744</td>\n",
       "      <td>471784.10</td>\n",
       "      <td>Dhaka</td>\n",
       "      <td>192261.83</td>\n",
       "    </tr>\n",
       "    <tr>\n",
       "      <th>1</th>\n",
       "      <td>0.983359</td>\n",
       "      <td>0.761972</td>\n",
       "      <td>443898.53</td>\n",
       "      <td>Ctg</td>\n",
       "      <td>191792.06</td>\n",
       "    </tr>\n",
       "    <tr>\n",
       "      <th>2</th>\n",
       "      <td>0.927985</td>\n",
       "      <td>0.379579</td>\n",
       "      <td>407934.54</td>\n",
       "      <td>Rangpur</td>\n",
       "      <td>191050.39</td>\n",
       "    </tr>\n",
       "    <tr>\n",
       "      <th>3</th>\n",
       "      <td>0.873136</td>\n",
       "      <td>0.512998</td>\n",
       "      <td>383199.62</td>\n",
       "      <td>Dhaka</td>\n",
       "      <td>182901.99</td>\n",
       "    </tr>\n",
       "    <tr>\n",
       "      <th>4</th>\n",
       "      <td>0.859438</td>\n",
       "      <td>0.305328</td>\n",
       "      <td>366168.42</td>\n",
       "      <td>Rangpur</td>\n",
       "      <td>166187.94</td>\n",
       "    </tr>\n",
       "  </tbody>\n",
       "</table>\n",
       "</div>"
      ],
      "text/plain": [
       "   Marketing Spend  Administration  Transport     Area     Profit\n",
       "0         0.692617        0.651744  471784.10    Dhaka  192261.83\n",
       "1         0.983359        0.761972  443898.53      Ctg  191792.06\n",
       "2         0.927985        0.379579  407934.54  Rangpur  191050.39\n",
       "3         0.873136        0.512998  383199.62    Dhaka  182901.99\n",
       "4         0.859438        0.305328  366168.42  Rangpur  166187.94"
      ]
     },
     "execution_count": 12,
     "metadata": {},
     "output_type": "execute_result"
    }
   ],
   "source": [
    "df.head()"
   ]
  },
  {
   "cell_type": "code",
   "execution_count": 13,
   "id": "1f3d7a26",
   "metadata": {},
   "outputs": [
    {
     "name": "stdout",
     "output_type": "stream",
     "text": [
      "<class 'pandas.core.frame.DataFrame'>\n",
      "RangeIndex: 50 entries, 0 to 49\n",
      "Data columns (total 5 columns):\n",
      " #   Column           Non-Null Count  Dtype  \n",
      "---  ------           --------------  -----  \n",
      " 0   Marketing Spend  50 non-null     float64\n",
      " 1   Administration   50 non-null     float64\n",
      " 2   Transport        49 non-null     float64\n",
      " 3   Area             50 non-null     object \n",
      " 4   Profit           50 non-null     float64\n",
      "dtypes: float64(4), object(1)\n",
      "memory usage: 2.1+ KB\n"
     ]
    }
   ],
   "source": [
    "df.info()"
   ]
  },
  {
   "cell_type": "code",
   "execution_count": 15,
   "id": "5e0e60bb",
   "metadata": {},
   "outputs": [],
   "source": [
    "x = df.drop('Profit', axis=1)\n",
    "y = df[['Profit']]"
   ]
  },
  {
   "cell_type": "code",
   "execution_count": 16,
   "id": "e49cb289",
   "metadata": {},
   "outputs": [],
   "source": [
    "x1 = x.copy()\n",
    "x2 = x.copy()\n",
    "x3 = x.copy()\n",
    "x4 = x.copy()\n",
    "x5 = x.copy()\n",
    "x6 = x.copy()"
   ]
  },
  {
   "cell_type": "markdown",
   "id": "465a6e22",
   "metadata": {},
   "source": [
    "# Min Max Scaler using for loop"
   ]
  },
  {
   "cell_type": "code",
   "execution_count": 7,
   "id": "ec888975",
   "metadata": {},
   "outputs": [],
   "source": [
    "df = pd.read_csv('supershops.csv')"
   ]
  },
  {
   "cell_type": "code",
   "execution_count": 8,
   "id": "95f5bede",
   "metadata": {},
   "outputs": [
    {
     "data": {
      "text/html": [
       "<div>\n",
       "<style scoped>\n",
       "    .dataframe tbody tr th:only-of-type {\n",
       "        vertical-align: middle;\n",
       "    }\n",
       "\n",
       "    .dataframe tbody tr th {\n",
       "        vertical-align: top;\n",
       "    }\n",
       "\n",
       "    .dataframe thead th {\n",
       "        text-align: right;\n",
       "    }\n",
       "</style>\n",
       "<table border=\"1\" class=\"dataframe\">\n",
       "  <thead>\n",
       "    <tr style=\"text-align: right;\">\n",
       "      <th></th>\n",
       "      <th>Marketing Spend</th>\n",
       "      <th>Administration</th>\n",
       "      <th>Transport</th>\n",
       "      <th>Area</th>\n",
       "      <th>Profit</th>\n",
       "    </tr>\n",
       "  </thead>\n",
       "  <tbody>\n",
       "    <tr>\n",
       "      <th>0</th>\n",
       "      <td>114523.61</td>\n",
       "      <td>136897.80</td>\n",
       "      <td>471784.10</td>\n",
       "      <td>Dhaka</td>\n",
       "      <td>192261.83</td>\n",
       "    </tr>\n",
       "    <tr>\n",
       "      <th>1</th>\n",
       "      <td>162597.70</td>\n",
       "      <td>151377.59</td>\n",
       "      <td>443898.53</td>\n",
       "      <td>Ctg</td>\n",
       "      <td>191792.06</td>\n",
       "    </tr>\n",
       "    <tr>\n",
       "      <th>2</th>\n",
       "      <td>153441.51</td>\n",
       "      <td>101145.55</td>\n",
       "      <td>407934.54</td>\n",
       "      <td>Rangpur</td>\n",
       "      <td>191050.39</td>\n",
       "    </tr>\n",
       "    <tr>\n",
       "      <th>3</th>\n",
       "      <td>144372.41</td>\n",
       "      <td>118671.85</td>\n",
       "      <td>383199.62</td>\n",
       "      <td>Dhaka</td>\n",
       "      <td>182901.99</td>\n",
       "    </tr>\n",
       "    <tr>\n",
       "      <th>4</th>\n",
       "      <td>142107.34</td>\n",
       "      <td>91391.77</td>\n",
       "      <td>366168.42</td>\n",
       "      <td>Rangpur</td>\n",
       "      <td>166187.94</td>\n",
       "    </tr>\n",
       "  </tbody>\n",
       "</table>\n",
       "</div>"
      ],
      "text/plain": [
       "   Marketing Spend  Administration  Transport     Area     Profit\n",
       "0        114523.61       136897.80  471784.10    Dhaka  192261.83\n",
       "1        162597.70       151377.59  443898.53      Ctg  191792.06\n",
       "2        153441.51       101145.55  407934.54  Rangpur  191050.39\n",
       "3        144372.41       118671.85  383199.62    Dhaka  182901.99\n",
       "4        142107.34        91391.77  366168.42  Rangpur  166187.94"
      ]
     },
     "execution_count": 8,
     "metadata": {},
     "output_type": "execute_result"
    }
   ],
   "source": [
    "df.head()"
   ]
  },
  {
   "cell_type": "code",
   "execution_count": 9,
   "id": "c58933b3",
   "metadata": {},
   "outputs": [
    {
     "data": {
      "text/html": [
       "<div>\n",
       "<style scoped>\n",
       "    .dataframe tbody tr th:only-of-type {\n",
       "        vertical-align: middle;\n",
       "    }\n",
       "\n",
       "    .dataframe tbody tr th {\n",
       "        vertical-align: top;\n",
       "    }\n",
       "\n",
       "    .dataframe thead th {\n",
       "        text-align: right;\n",
       "    }\n",
       "</style>\n",
       "<table border=\"1\" class=\"dataframe\">\n",
       "  <thead>\n",
       "    <tr style=\"text-align: right;\">\n",
       "      <th></th>\n",
       "      <th>Marketing Spend</th>\n",
       "      <th>Administration</th>\n",
       "      <th>Transport</th>\n",
       "      <th>Area</th>\n",
       "      <th>Profit</th>\n",
       "    </tr>\n",
       "  </thead>\n",
       "  <tbody>\n",
       "    <tr>\n",
       "      <th>45</th>\n",
       "      <td>1000.23</td>\n",
       "      <td>124153.04</td>\n",
       "      <td>1903.93</td>\n",
       "      <td>Dhaka</td>\n",
       "      <td>64926.08</td>\n",
       "    </tr>\n",
       "    <tr>\n",
       "      <th>46</th>\n",
       "      <td>1315.46</td>\n",
       "      <td>115816.21</td>\n",
       "      <td>297114.46</td>\n",
       "      <td>Rangpur</td>\n",
       "      <td>49490.75</td>\n",
       "    </tr>\n",
       "    <tr>\n",
       "      <th>47</th>\n",
       "      <td>0.00</td>\n",
       "      <td>135426.92</td>\n",
       "      <td>0.00</td>\n",
       "      <td>Ctg</td>\n",
       "      <td>42559.73</td>\n",
       "    </tr>\n",
       "    <tr>\n",
       "      <th>48</th>\n",
       "      <td>542.05</td>\n",
       "      <td>51743.15</td>\n",
       "      <td>0.00</td>\n",
       "      <td>Dhaka</td>\n",
       "      <td>35673.41</td>\n",
       "    </tr>\n",
       "    <tr>\n",
       "      <th>49</th>\n",
       "      <td>0.00</td>\n",
       "      <td>116983.80</td>\n",
       "      <td>45173.06</td>\n",
       "      <td>Ctg</td>\n",
       "      <td>14681.40</td>\n",
       "    </tr>\n",
       "  </tbody>\n",
       "</table>\n",
       "</div>"
      ],
      "text/plain": [
       "    Marketing Spend  Administration  Transport     Area    Profit\n",
       "45          1000.23       124153.04    1903.93    Dhaka  64926.08\n",
       "46          1315.46       115816.21  297114.46  Rangpur  49490.75\n",
       "47             0.00       135426.92       0.00      Ctg  42559.73\n",
       "48           542.05        51743.15       0.00    Dhaka  35673.41\n",
       "49             0.00       116983.80   45173.06      Ctg  14681.40"
      ]
     },
     "execution_count": 9,
     "metadata": {},
     "output_type": "execute_result"
    }
   ],
   "source": [
    "df.tail()"
   ]
  },
  {
   "cell_type": "code",
   "execution_count": 10,
   "id": "a46b124a",
   "metadata": {},
   "outputs": [
    {
     "data": {
      "text/plain": [
       "Marketing Spend    float64\n",
       "Administration     float64\n",
       "Transport          float64\n",
       "Area                object\n",
       "Profit             float64\n",
       "dtype: object"
      ]
     },
     "execution_count": 10,
     "metadata": {},
     "output_type": "execute_result"
    }
   ],
   "source": [
    "df.dtypes"
   ]
  },
  {
   "cell_type": "code",
   "execution_count": 11,
   "id": "ca82f810",
   "metadata": {},
   "outputs": [],
   "source": [
    "X = df.iloc[:, [0,1,2]]\n",
    "Y = df.iloc[:, 4]"
   ]
  },
  {
   "cell_type": "code",
   "execution_count": 12,
   "id": "7221e3e9",
   "metadata": {},
   "outputs": [
    {
     "data": {
      "text/html": [
       "<div>\n",
       "<style scoped>\n",
       "    .dataframe tbody tr th:only-of-type {\n",
       "        vertical-align: middle;\n",
       "    }\n",
       "\n",
       "    .dataframe tbody tr th {\n",
       "        vertical-align: top;\n",
       "    }\n",
       "\n",
       "    .dataframe thead th {\n",
       "        text-align: right;\n",
       "    }\n",
       "</style>\n",
       "<table border=\"1\" class=\"dataframe\">\n",
       "  <thead>\n",
       "    <tr style=\"text-align: right;\">\n",
       "      <th></th>\n",
       "      <th>Marketing Spend</th>\n",
       "      <th>Administration</th>\n",
       "      <th>Transport</th>\n",
       "    </tr>\n",
       "  </thead>\n",
       "  <tbody>\n",
       "    <tr>\n",
       "      <th>0</th>\n",
       "      <td>114523.61</td>\n",
       "      <td>136897.80</td>\n",
       "      <td>471784.10</td>\n",
       "    </tr>\n",
       "    <tr>\n",
       "      <th>1</th>\n",
       "      <td>162597.70</td>\n",
       "      <td>151377.59</td>\n",
       "      <td>443898.53</td>\n",
       "    </tr>\n",
       "    <tr>\n",
       "      <th>2</th>\n",
       "      <td>153441.51</td>\n",
       "      <td>101145.55</td>\n",
       "      <td>407934.54</td>\n",
       "    </tr>\n",
       "    <tr>\n",
       "      <th>3</th>\n",
       "      <td>144372.41</td>\n",
       "      <td>118671.85</td>\n",
       "      <td>383199.62</td>\n",
       "    </tr>\n",
       "    <tr>\n",
       "      <th>4</th>\n",
       "      <td>142107.34</td>\n",
       "      <td>91391.77</td>\n",
       "      <td>366168.42</td>\n",
       "    </tr>\n",
       "  </tbody>\n",
       "</table>\n",
       "</div>"
      ],
      "text/plain": [
       "   Marketing Spend  Administration  Transport\n",
       "0        114523.61       136897.80  471784.10\n",
       "1        162597.70       151377.59  443898.53\n",
       "2        153441.51       101145.55  407934.54\n",
       "3        144372.41       118671.85  383199.62\n",
       "4        142107.34        91391.77  366168.42"
      ]
     },
     "execution_count": 12,
     "metadata": {},
     "output_type": "execute_result"
    }
   ],
   "source": [
    "X.head()"
   ]
  },
  {
   "cell_type": "code",
   "execution_count": 13,
   "id": "09ca760e",
   "metadata": {},
   "outputs": [
    {
     "data": {
      "text/plain": [
       "0    192261.83\n",
       "1    191792.06\n",
       "2    191050.39\n",
       "3    182901.99\n",
       "4    166187.94\n",
       "Name: Profit, dtype: float64"
      ]
     },
     "execution_count": 13,
     "metadata": {},
     "output_type": "execute_result"
    }
   ],
   "source": [
    "Y.head()"
   ]
  },
  {
   "cell_type": "code",
   "execution_count": 14,
   "id": "a6a3203e",
   "metadata": {},
   "outputs": [],
   "source": [
    "from sklearn.preprocessing import MinMaxScaler\n",
    "from sklearn.model_selection import train_test_split"
   ]
  },
  {
   "cell_type": "code",
   "execution_count": 15,
   "id": "a722a922",
   "metadata": {},
   "outputs": [],
   "source": [
    "X_train, X_test, Y_train, Y_test = train_test_split(X,Y, random_state=50)"
   ]
  },
  {
   "cell_type": "code",
   "execution_count": 16,
   "id": "4f50474b",
   "metadata": {},
   "outputs": [
    {
     "data": {
      "text/html": [
       "<div>\n",
       "<style scoped>\n",
       "    .dataframe tbody tr th:only-of-type {\n",
       "        vertical-align: middle;\n",
       "    }\n",
       "\n",
       "    .dataframe tbody tr th {\n",
       "        vertical-align: top;\n",
       "    }\n",
       "\n",
       "    .dataframe thead th {\n",
       "        text-align: right;\n",
       "    }\n",
       "</style>\n",
       "<table border=\"1\" class=\"dataframe\">\n",
       "  <thead>\n",
       "    <tr style=\"text-align: right;\">\n",
       "      <th></th>\n",
       "      <th>Marketing Spend</th>\n",
       "      <th>Administration</th>\n",
       "      <th>Transport</th>\n",
       "    </tr>\n",
       "  </thead>\n",
       "  <tbody>\n",
       "    <tr>\n",
       "      <th>23</th>\n",
       "      <td>67532.53</td>\n",
       "      <td>105751.03</td>\n",
       "      <td>304768.73</td>\n",
       "    </tr>\n",
       "    <tr>\n",
       "      <th>25</th>\n",
       "      <td>64664.71</td>\n",
       "      <td>139553.16</td>\n",
       "      <td>137962.62</td>\n",
       "    </tr>\n",
       "    <tr>\n",
       "      <th>3</th>\n",
       "      <td>144372.41</td>\n",
       "      <td>118671.85</td>\n",
       "      <td>383199.62</td>\n",
       "    </tr>\n",
       "    <tr>\n",
       "      <th>39</th>\n",
       "      <td>38558.51</td>\n",
       "      <td>82982.09</td>\n",
       "      <td>174999.30</td>\n",
       "    </tr>\n",
       "    <tr>\n",
       "      <th>15</th>\n",
       "      <td>165349.20</td>\n",
       "      <td>122616.84</td>\n",
       "      <td>261776.23</td>\n",
       "    </tr>\n",
       "  </tbody>\n",
       "</table>\n",
       "</div>"
      ],
      "text/plain": [
       "    Marketing Spend  Administration  Transport\n",
       "23         67532.53       105751.03  304768.73\n",
       "25         64664.71       139553.16  137962.62\n",
       "3         144372.41       118671.85  383199.62\n",
       "39         38558.51        82982.09  174999.30\n",
       "15        165349.20       122616.84  261776.23"
      ]
     },
     "execution_count": 16,
     "metadata": {},
     "output_type": "execute_result"
    }
   ],
   "source": [
    "X_train.head()"
   ]
  },
  {
   "cell_type": "code",
   "execution_count": 17,
   "id": "57956fca",
   "metadata": {},
   "outputs": [],
   "source": [
    "scaler = MinMaxScaler().fit(X_train)"
   ]
  },
  {
   "cell_type": "code",
   "execution_count": 18,
   "id": "e8a509e5",
   "metadata": {},
   "outputs": [
    {
     "name": "stdout",
     "output_type": "stream",
     "text": [
      "MinMaxScaler()\n"
     ]
    }
   ],
   "source": [
    "print(scaler)"
   ]
  },
  {
   "cell_type": "code",
   "execution_count": 19,
   "id": "db9356be",
   "metadata": {},
   "outputs": [
    {
     "data": {
      "text/plain": [
       "array([    0.  , 51283.14,     0.  ])"
      ]
     },
     "execution_count": 19,
     "metadata": {},
     "output_type": "execute_result"
    }
   ],
   "source": [
    "scaler.data_min_"
   ]
  },
  {
   "cell_type": "code",
   "execution_count": 20,
   "id": "f723255d",
   "metadata": {},
   "outputs": [
    {
     "data": {
      "text/plain": [
       "array([165349.2 , 182645.56, 471784.1 ])"
      ]
     },
     "execution_count": 20,
     "metadata": {},
     "output_type": "execute_result"
    }
   ],
   "source": [
    "scaler.data_max_"
   ]
  },
  {
   "cell_type": "code",
   "execution_count": 21,
   "id": "132b3363",
   "metadata": {},
   "outputs": [
    {
     "data": {
      "text/html": [
       "<div>\n",
       "<style scoped>\n",
       "    .dataframe tbody tr th:only-of-type {\n",
       "        vertical-align: middle;\n",
       "    }\n",
       "\n",
       "    .dataframe tbody tr th {\n",
       "        vertical-align: top;\n",
       "    }\n",
       "\n",
       "    .dataframe thead th {\n",
       "        text-align: right;\n",
       "    }\n",
       "</style>\n",
       "<table border=\"1\" class=\"dataframe\">\n",
       "  <thead>\n",
       "    <tr style=\"text-align: right;\">\n",
       "      <th></th>\n",
       "      <th>Marketing Spend</th>\n",
       "      <th>Administration</th>\n",
       "      <th>Transport</th>\n",
       "    </tr>\n",
       "  </thead>\n",
       "  <tbody>\n",
       "    <tr>\n",
       "      <th>count</th>\n",
       "      <td>37.000000</td>\n",
       "      <td>37.000000</td>\n",
       "      <td>36.000000</td>\n",
       "    </tr>\n",
       "    <tr>\n",
       "      <th>mean</th>\n",
       "      <td>74649.290811</td>\n",
       "      <td>120666.798378</td>\n",
       "      <td>205178.838611</td>\n",
       "    </tr>\n",
       "    <tr>\n",
       "      <th>std</th>\n",
       "      <td>47232.869081</td>\n",
       "      <td>28503.174656</td>\n",
       "      <td>129350.044809</td>\n",
       "    </tr>\n",
       "    <tr>\n",
       "      <th>min</th>\n",
       "      <td>0.000000</td>\n",
       "      <td>51283.140000</td>\n",
       "      <td>0.000000</td>\n",
       "    </tr>\n",
       "    <tr>\n",
       "      <th>25%</th>\n",
       "      <td>38558.510000</td>\n",
       "      <td>103057.490000</td>\n",
       "      <td>111393.960000</td>\n",
       "    </tr>\n",
       "    <tr>\n",
       "      <th>50%</th>\n",
       "      <td>72107.600000</td>\n",
       "      <td>122616.840000</td>\n",
       "      <td>205832.115000</td>\n",
       "    </tr>\n",
       "    <tr>\n",
       "      <th>75%</th>\n",
       "      <td>114523.610000</td>\n",
       "      <td>144135.980000</td>\n",
       "      <td>303681.627500</td>\n",
       "    </tr>\n",
       "    <tr>\n",
       "      <th>max</th>\n",
       "      <td>165349.200000</td>\n",
       "      <td>182645.560000</td>\n",
       "      <td>471784.100000</td>\n",
       "    </tr>\n",
       "  </tbody>\n",
       "</table>\n",
       "</div>"
      ],
      "text/plain": [
       "       Marketing Spend  Administration      Transport\n",
       "count        37.000000       37.000000      36.000000\n",
       "mean      74649.290811   120666.798378  205178.838611\n",
       "std       47232.869081    28503.174656  129350.044809\n",
       "min           0.000000    51283.140000       0.000000\n",
       "25%       38558.510000   103057.490000  111393.960000\n",
       "50%       72107.600000   122616.840000  205832.115000\n",
       "75%      114523.610000   144135.980000  303681.627500\n",
       "max      165349.200000   182645.560000  471784.100000"
      ]
     },
     "execution_count": 21,
     "metadata": {},
     "output_type": "execute_result"
    }
   ],
   "source": [
    "X_train.describe()"
   ]
  },
  {
   "cell_type": "code",
   "execution_count": 22,
   "id": "4a8d966f",
   "metadata": {},
   "outputs": [
    {
     "data": {
      "text/plain": [
       "(0, 1)"
      ]
     },
     "execution_count": 22,
     "metadata": {},
     "output_type": "execute_result"
    }
   ],
   "source": [
    "scaler.feature_range"
   ]
  },
  {
   "cell_type": "code",
   "execution_count": 23,
   "id": "0fd13b85",
   "metadata": {},
   "outputs": [
    {
     "data": {
      "text/plain": [
       "array([[0.40842369, 0.4146383 , 0.64599195],\n",
       "       [0.39107967, 0.67195793, 0.29242745],\n",
       "       [0.87313643, 0.51299839, 0.81223513],\n",
       "       [0.23319442, 0.24130912, 0.3709309 ],\n",
       "       [1.        , 0.54302973, 0.55486446],\n",
       "       [0.16869099, 0.25446874, 0.34861436],\n",
       "       [0.52264964, 0.77823604,        nan],\n",
       "       [0.        , 0.50014806, 0.09574943],\n",
       "       [0.69261666, 0.65174393, 1.        ],\n",
       "       [0.74590551, 0.43692884, 0.64644319],\n",
       "       [0.61635061, 0.45150637, 0.48573267],\n",
       "       [0.47408436, 0.78021012, 0.63532724],\n",
       "       [0.57246821, 0.71401273, 0.59894835],\n",
       "       [0.        , 0.64054682, 0.        ],\n",
       "       [0.46116861, 0.47642362, 0.63305328],\n",
       "       [0.17390063, 0.51204073, 0.36626005],\n",
       "       [0.13412668, 0.78807166, 0.06005866],\n",
       "       [0.45557444, 0.70684477, 0.28413435],\n",
       "       [0.43609283, 0.58297807, 0.74861321],\n",
       "       [0.39946683, 1.        , 0.25042853],\n",
       "       [0.72539353, 0.8013272 , 0.54370828],\n",
       "       [0.09377566, 0.57930693, 0.07531871],\n",
       "       [0.7880179 , 0.71745725, 0.68649342],\n",
       "       [0.36974101, 0.77205322, 0.18698856],\n",
       "       [0.92798459, 0.37957895, 0.8646636 ],\n",
       "       [0.797566  , 0.3694479 , 0.76912588],\n",
       "       [0.4475048 , 0.54429273, 0.64291963],\n",
       "       [0.14297577, 0.34185188, 0.31370517],\n",
       "       [0.26652654, 0.        , 0.41762624],\n",
       "       [0.81412828, 0.73016111, 0.27071031],\n",
       "       [0.85943772, 0.30532804, 0.77613557],\n",
       "       [0.37493063, 0.48992809, 0.19316302],\n",
       "       [0.33561668, 0.39413365, 0.45494286],\n",
       "       [0.0060492 , 0.5547241 , 0.0040356 ],\n",
       "       [0.60884455, 0.30836422, 0.52936195],\n",
       "       [0.38348453, 0.5932935 , 0.09768292],\n",
       "       [0.00327821, 0.00350184, 0.        ]])"
      ]
     },
     "execution_count": 23,
     "metadata": {},
     "output_type": "execute_result"
    }
   ],
   "source": [
    "\n",
    "scaler.transform(X_train)"
   ]
  },
  {
   "cell_type": "code",
   "execution_count": 24,
   "id": "28c39fd3",
   "metadata": {},
   "outputs": [],
   "source": [
    "X_train_scaled = scaler.transform(X_train)"
   ]
  },
  {
   "cell_type": "code",
   "execution_count": 25,
   "id": "13ff491c",
   "metadata": {},
   "outputs": [
    {
     "name": "stdout",
     "output_type": "stream",
     "text": [
      "[[0.40842369 0.4146383  0.64599195]\n",
      " [0.39107967 0.67195793 0.29242745]\n",
      " [0.87313643 0.51299839 0.81223513]\n",
      " [0.23319442 0.24130912 0.3709309 ]\n",
      " [1.         0.54302973 0.55486446]\n",
      " [0.16869099 0.25446874 0.34861436]\n",
      " [0.52264964 0.77823604        nan]\n",
      " [0.         0.50014806 0.09574943]\n",
      " [0.69261666 0.65174393 1.        ]\n",
      " [0.74590551 0.43692884 0.64644319]\n",
      " [0.61635061 0.45150637 0.48573267]\n",
      " [0.47408436 0.78021012 0.63532724]\n",
      " [0.57246821 0.71401273 0.59894835]\n",
      " [0.         0.64054682 0.        ]\n",
      " [0.46116861 0.47642362 0.63305328]\n",
      " [0.17390063 0.51204073 0.36626005]\n",
      " [0.13412668 0.78807166 0.06005866]\n",
      " [0.45557444 0.70684477 0.28413435]\n",
      " [0.43609283 0.58297807 0.74861321]\n",
      " [0.39946683 1.         0.25042853]\n",
      " [0.72539353 0.8013272  0.54370828]\n",
      " [0.09377566 0.57930693 0.07531871]\n",
      " [0.7880179  0.71745725 0.68649342]\n",
      " [0.36974101 0.77205322 0.18698856]\n",
      " [0.92798459 0.37957895 0.8646636 ]\n",
      " [0.797566   0.3694479  0.76912588]\n",
      " [0.4475048  0.54429273 0.64291963]\n",
      " [0.14297577 0.34185188 0.31370517]\n",
      " [0.26652654 0.         0.41762624]\n",
      " [0.81412828 0.73016111 0.27071031]\n",
      " [0.85943772 0.30532804 0.77613557]\n",
      " [0.37493063 0.48992809 0.19316302]\n",
      " [0.33561668 0.39413365 0.45494286]\n",
      " [0.0060492  0.5547241  0.0040356 ]\n",
      " [0.60884455 0.30836422 0.52936195]\n",
      " [0.38348453 0.5932935  0.09768292]\n",
      " [0.00327821 0.00350184 0.        ]]\n"
     ]
    }
   ],
   "source": [
    "print(X_train_scaled)"
   ]
  },
  {
   "cell_type": "code",
   "execution_count": 26,
   "id": "d7de1a2c",
   "metadata": {},
   "outputs": [],
   "source": [
    "scaler = MinMaxScaler().fit(X_test)"
   ]
  },
  {
   "cell_type": "code",
   "execution_count": 27,
   "id": "c0c832b3",
   "metadata": {},
   "outputs": [
    {
     "name": "stdout",
     "output_type": "stream",
     "text": [
      "MinMaxScaler()\n"
     ]
    }
   ],
   "source": [
    "print(scaler)"
   ]
  },
  {
   "cell_type": "code",
   "execution_count": 28,
   "id": "6a951dc3",
   "metadata": {},
   "outputs": [
    {
     "data": {
      "text/plain": [
       "array([  1315.46,  65947.93, 107138.38])"
      ]
     },
     "execution_count": 28,
     "metadata": {},
     "output_type": "execute_result"
    }
   ],
   "source": [
    "scaler.data_min_"
   ]
  },
  {
   "cell_type": "code",
   "execution_count": 29,
   "id": "2d69dcdb",
   "metadata": {},
   "outputs": [
    {
     "data": {
      "text/plain": [
       "array([162597.7 , 157693.92, 443898.53])"
      ]
     },
     "execution_count": 29,
     "metadata": {},
     "output_type": "execute_result"
    }
   ],
   "source": [
    "scaler.data_max_"
   ]
  },
  {
   "cell_type": "code",
   "execution_count": 30,
   "id": "71f4347d",
   "metadata": {},
   "outputs": [
    {
     "data": {
      "text/plain": [
       "(0, 1)"
      ]
     },
     "execution_count": 30,
     "metadata": {},
     "output_type": "execute_result"
    }
   ],
   "source": [
    "scaler.feature_range"
   ]
  },
  {
   "cell_type": "code",
   "execution_count": 31,
   "id": "3cd686b0",
   "metadata": {},
   "outputs": [
    {
     "data": {
      "text/html": [
       "<div>\n",
       "<style scoped>\n",
       "    .dataframe tbody tr th:only-of-type {\n",
       "        vertical-align: middle;\n",
       "    }\n",
       "\n",
       "    .dataframe tbody tr th {\n",
       "        vertical-align: top;\n",
       "    }\n",
       "\n",
       "    .dataframe thead th {\n",
       "        text-align: right;\n",
       "    }\n",
       "</style>\n",
       "<table border=\"1\" class=\"dataframe\">\n",
       "  <thead>\n",
       "    <tr style=\"text-align: right;\">\n",
       "      <th></th>\n",
       "      <th>Marketing Spend</th>\n",
       "      <th>Administration</th>\n",
       "      <th>Transport</th>\n",
       "    </tr>\n",
       "  </thead>\n",
       "  <tbody>\n",
       "    <tr>\n",
       "      <th>count</th>\n",
       "      <td>13.000000</td>\n",
       "      <td>13.000000</td>\n",
       "      <td>13.000000</td>\n",
       "    </tr>\n",
       "    <tr>\n",
       "      <th>mean</th>\n",
       "      <td>71081.309231</td>\n",
       "      <td>123273.880000</td>\n",
       "      <td>243447.438462</td>\n",
       "    </tr>\n",
       "    <tr>\n",
       "      <th>std</th>\n",
       "      <td>43596.054716</td>\n",
       "      <td>27616.368336</td>\n",
       "      <td>85519.568185</td>\n",
       "    </tr>\n",
       "    <tr>\n",
       "      <th>min</th>\n",
       "      <td>1315.460000</td>\n",
       "      <td>65947.930000</td>\n",
       "      <td>107138.380000</td>\n",
       "    </tr>\n",
       "    <tr>\n",
       "      <th>25%</th>\n",
       "      <td>46014.020000</td>\n",
       "      <td>114175.790000</td>\n",
       "      <td>201126.820000</td>\n",
       "    </tr>\n",
       "    <tr>\n",
       "      <th>50%</th>\n",
       "      <td>77044.010000</td>\n",
       "      <td>127056.210000</td>\n",
       "      <td>249839.440000</td>\n",
       "    </tr>\n",
       "    <tr>\n",
       "      <th>75%</th>\n",
       "      <td>91992.390000</td>\n",
       "      <td>148718.950000</td>\n",
       "      <td>294919.570000</td>\n",
       "    </tr>\n",
       "    <tr>\n",
       "      <th>max</th>\n",
       "      <td>162597.700000</td>\n",
       "      <td>157693.920000</td>\n",
       "      <td>443898.530000</td>\n",
       "    </tr>\n",
       "  </tbody>\n",
       "</table>\n",
       "</div>"
      ],
      "text/plain": [
       "       Marketing Spend  Administration      Transport\n",
       "count        13.000000       13.000000      13.000000\n",
       "mean      71081.309231   123273.880000  243447.438462\n",
       "std       43596.054716    27616.368336   85519.568185\n",
       "min        1315.460000    65947.930000  107138.380000\n",
       "25%       46014.020000   114175.790000  201126.820000\n",
       "50%       77044.010000   127056.210000  249839.440000\n",
       "75%       91992.390000   148718.950000  294919.570000\n",
       "max      162597.700000   157693.920000  443898.530000"
      ]
     },
     "execution_count": 31,
     "metadata": {},
     "output_type": "execute_result"
    }
   ],
   "source": [
    "X_test.describe()"
   ]
  },
  {
   "cell_type": "code",
   "execution_count": 32,
   "id": "2e2573db",
   "metadata": {},
   "outputs": [
    {
     "data": {
      "text/plain": [
       "array([[0.2796998 , 1.        , 0.30781341],\n",
       "       [0.16956796, 0.66605941, 0.27909609],\n",
       "       [1.        , 0.93115416, 1.        ],\n",
       "       [0.11727348, 0.        , 0.23199515],\n",
       "       [0.73924482, 0.90217589, 0.60718262],\n",
       "       [0.47554926, 0.60656188, 0.46682388],\n",
       "       [0.27714496, 0.20817814, 0.29213451],\n",
       "       [0.56222514, 0.75804011, 0.43213709],\n",
       "       [0.3986181 , 0.94918732, 0.        ],\n",
       "       [0.46954054, 0.3633228 , 0.09928856],\n",
       "       [0.56071704, 0.52566723, 0.55761108],\n",
       "       [0.        , 0.54354724, 0.56412874],\n",
       "       [0.57382815, 0.66893877, 0.42374687]])"
      ]
     },
     "execution_count": 32,
     "metadata": {},
     "output_type": "execute_result"
    }
   ],
   "source": [
    "scaler.transform(X_test)"
   ]
  },
  {
   "cell_type": "code",
   "execution_count": 33,
   "id": "34d5b04e",
   "metadata": {},
   "outputs": [],
   "source": [
    "X_test_scaled = scaler.transform(X_test) "
   ]
  },
  {
   "cell_type": "code",
   "execution_count": 34,
   "id": "3ece72c8",
   "metadata": {},
   "outputs": [
    {
     "name": "stdout",
     "output_type": "stream",
     "text": [
      "[[0.2796998  1.         0.30781341]\n",
      " [0.16956796 0.66605941 0.27909609]\n",
      " [1.         0.93115416 1.        ]\n",
      " [0.11727348 0.         0.23199515]\n",
      " [0.73924482 0.90217589 0.60718262]\n",
      " [0.47554926 0.60656188 0.46682388]\n",
      " [0.27714496 0.20817814 0.29213451]\n",
      " [0.56222514 0.75804011 0.43213709]\n",
      " [0.3986181  0.94918732 0.        ]\n",
      " [0.46954054 0.3633228  0.09928856]\n",
      " [0.56071704 0.52566723 0.55761108]\n",
      " [0.         0.54354724 0.56412874]\n",
      " [0.57382815 0.66893877 0.42374687]]\n"
     ]
    }
   ],
   "source": [
    "print(X_test_scaled)"
   ]
  },
  {
   "cell_type": "markdown",
   "id": "1213e093",
   "metadata": {},
   "source": [
    "# Standard Scaler"
   ]
  },
  {
   "cell_type": "code",
   "execution_count": 35,
   "id": "c7d132aa",
   "metadata": {},
   "outputs": [],
   "source": [
    "#https://scikit-learn.org/stable/modules/generated/sklearn.preprocessing.StandardScaler.html"
   ]
  },
  {
   "cell_type": "code",
   "execution_count": 36,
   "id": "4cbaab3d",
   "metadata": {},
   "outputs": [
    {
     "data": {
      "text/plain": [
       "(50, 5)"
      ]
     },
     "execution_count": 36,
     "metadata": {},
     "output_type": "execute_result"
    }
   ],
   "source": [
    "df.shape"
   ]
  },
  {
   "cell_type": "code",
   "execution_count": 37,
   "id": "8ccf58fe",
   "metadata": {},
   "outputs": [
    {
     "data": {
      "text/plain": [
       "Marketing Spend    float64\n",
       "Administration     float64\n",
       "Transport          float64\n",
       "Area                object\n",
       "Profit             float64\n",
       "dtype: object"
      ]
     },
     "execution_count": 37,
     "metadata": {},
     "output_type": "execute_result"
    }
   ],
   "source": [
    "df.dtypes"
   ]
  },
  {
   "cell_type": "code",
   "execution_count": 38,
   "id": "768c052c",
   "metadata": {},
   "outputs": [],
   "source": [
    "X = df.iloc[:, [0,1,2]]\n",
    "Y = df.iloc[:, 4]"
   ]
  },
  {
   "cell_type": "code",
   "execution_count": 39,
   "id": "53d48e79",
   "metadata": {},
   "outputs": [
    {
     "data": {
      "text/html": [
       "<div>\n",
       "<style scoped>\n",
       "    .dataframe tbody tr th:only-of-type {\n",
       "        vertical-align: middle;\n",
       "    }\n",
       "\n",
       "    .dataframe tbody tr th {\n",
       "        vertical-align: top;\n",
       "    }\n",
       "\n",
       "    .dataframe thead th {\n",
       "        text-align: right;\n",
       "    }\n",
       "</style>\n",
       "<table border=\"1\" class=\"dataframe\">\n",
       "  <thead>\n",
       "    <tr style=\"text-align: right;\">\n",
       "      <th></th>\n",
       "      <th>Marketing Spend</th>\n",
       "      <th>Administration</th>\n",
       "      <th>Transport</th>\n",
       "    </tr>\n",
       "  </thead>\n",
       "  <tbody>\n",
       "    <tr>\n",
       "      <th>0</th>\n",
       "      <td>114523.61</td>\n",
       "      <td>136897.80</td>\n",
       "      <td>471784.10</td>\n",
       "    </tr>\n",
       "    <tr>\n",
       "      <th>1</th>\n",
       "      <td>162597.70</td>\n",
       "      <td>151377.59</td>\n",
       "      <td>443898.53</td>\n",
       "    </tr>\n",
       "    <tr>\n",
       "      <th>2</th>\n",
       "      <td>153441.51</td>\n",
       "      <td>101145.55</td>\n",
       "      <td>407934.54</td>\n",
       "    </tr>\n",
       "    <tr>\n",
       "      <th>3</th>\n",
       "      <td>144372.41</td>\n",
       "      <td>118671.85</td>\n",
       "      <td>383199.62</td>\n",
       "    </tr>\n",
       "    <tr>\n",
       "      <th>4</th>\n",
       "      <td>142107.34</td>\n",
       "      <td>91391.77</td>\n",
       "      <td>366168.42</td>\n",
       "    </tr>\n",
       "  </tbody>\n",
       "</table>\n",
       "</div>"
      ],
      "text/plain": [
       "   Marketing Spend  Administration  Transport\n",
       "0        114523.61       136897.80  471784.10\n",
       "1        162597.70       151377.59  443898.53\n",
       "2        153441.51       101145.55  407934.54\n",
       "3        144372.41       118671.85  383199.62\n",
       "4        142107.34        91391.77  366168.42"
      ]
     },
     "execution_count": 39,
     "metadata": {},
     "output_type": "execute_result"
    }
   ],
   "source": [
    "X.head()"
   ]
  },
  {
   "cell_type": "code",
   "execution_count": 40,
   "id": "b7ac96b2",
   "metadata": {},
   "outputs": [],
   "source": [
    "from sklearn.model_selection import train_test_split\n",
    "from sklearn.preprocessing import StandardScaler"
   ]
  },
  {
   "cell_type": "code",
   "execution_count": 41,
   "id": "ad223c55",
   "metadata": {},
   "outputs": [],
   "source": [
    "X_train, X_test, Y_train, Y_test = train_test_split(X,Y, random_state = 40)"
   ]
  },
  {
   "cell_type": "code",
   "execution_count": 42,
   "id": "96756db8",
   "metadata": {},
   "outputs": [
    {
     "data": {
      "text/html": [
       "<div>\n",
       "<style scoped>\n",
       "    .dataframe tbody tr th:only-of-type {\n",
       "        vertical-align: middle;\n",
       "    }\n",
       "\n",
       "    .dataframe tbody tr th {\n",
       "        vertical-align: top;\n",
       "    }\n",
       "\n",
       "    .dataframe thead th {\n",
       "        text-align: right;\n",
       "    }\n",
       "</style>\n",
       "<table border=\"1\" class=\"dataframe\">\n",
       "  <thead>\n",
       "    <tr style=\"text-align: right;\">\n",
       "      <th></th>\n",
       "      <th>Marketing Spend</th>\n",
       "      <th>Administration</th>\n",
       "      <th>Transport</th>\n",
       "    </tr>\n",
       "  </thead>\n",
       "  <tbody>\n",
       "    <tr>\n",
       "      <th>21</th>\n",
       "      <td>78389.47</td>\n",
       "      <td>153773.43</td>\n",
       "      <td>299737.29</td>\n",
       "    </tr>\n",
       "    <tr>\n",
       "      <th>44</th>\n",
       "      <td>22177.74</td>\n",
       "      <td>154806.14</td>\n",
       "      <td>28334.72</td>\n",
       "    </tr>\n",
       "    <tr>\n",
       "      <th>41</th>\n",
       "      <td>27892.92</td>\n",
       "      <td>84710.77</td>\n",
       "      <td>164470.71</td>\n",
       "    </tr>\n",
       "    <tr>\n",
       "      <th>23</th>\n",
       "      <td>67532.53</td>\n",
       "      <td>105751.03</td>\n",
       "      <td>304768.73</td>\n",
       "    </tr>\n",
       "    <tr>\n",
       "      <th>36</th>\n",
       "      <td>28663.76</td>\n",
       "      <td>127056.21</td>\n",
       "      <td>201126.82</td>\n",
       "    </tr>\n",
       "  </tbody>\n",
       "</table>\n",
       "</div>"
      ],
      "text/plain": [
       "    Marketing Spend  Administration  Transport\n",
       "21         78389.47       153773.43  299737.29\n",
       "44         22177.74       154806.14   28334.72\n",
       "41         27892.92        84710.77  164470.71\n",
       "23         67532.53       105751.03  304768.73\n",
       "36         28663.76       127056.21  201126.82"
      ]
     },
     "execution_count": 42,
     "metadata": {},
     "output_type": "execute_result"
    }
   ],
   "source": [
    "X_train.head()"
   ]
  },
  {
   "cell_type": "code",
   "execution_count": 43,
   "id": "6b9d2e63",
   "metadata": {},
   "outputs": [],
   "source": [
    "scaler = StandardScaler().fit(X_train)"
   ]
  },
  {
   "cell_type": "code",
   "execution_count": 44,
   "id": "b3f37305",
   "metadata": {},
   "outputs": [
    {
     "name": "stdout",
     "output_type": "stream",
     "text": [
      "StandardScaler()\n"
     ]
    }
   ],
   "source": [
    "print(scaler)"
   ]
  },
  {
   "cell_type": "code",
   "execution_count": 45,
   "id": "d49b3673",
   "metadata": {},
   "outputs": [
    {
     "data": {
      "text/plain": [
       "array([ 74393.67864865, 124931.29702703, 211076.72527778])"
      ]
     },
     "execution_count": 45,
     "metadata": {},
     "output_type": "execute_result"
    }
   ],
   "source": [
    "scaler.mean_"
   ]
  },
  {
   "cell_type": "code",
   "execution_count": 46,
   "id": "c82d24aa",
   "metadata": {},
   "outputs": [
    {
     "data": {
      "text/plain": [
       "array([ 44910.78106948,  28204.69094584, 112788.47960309])"
      ]
     },
     "execution_count": 46,
     "metadata": {},
     "output_type": "execute_result"
    }
   ],
   "source": [
    "scaler.scale_"
   ]
  },
  {
   "cell_type": "code",
   "execution_count": 47,
   "id": "10b79e82",
   "metadata": {},
   "outputs": [
    {
     "data": {
      "text/plain": [
       "array([[ 8.89717626e-02,  1.02260057e+00,  7.86078197e-01],\n",
       "       [-1.16265933e+00,  1.05921540e+00, -1.62021871e+00],\n",
       "       [-1.03540303e+00, -1.42602261e+00, -4.13216097e-01],\n",
       "       [-1.52772864e-01, -6.80038192e-01,  8.30687718e-01],\n",
       "       [-1.01823922e+00,  7.53389916e-02, -8.82173899e-02],\n",
       "       [ 1.27994259e+00, -8.90510982e-01,  1.34574591e+00],\n",
       "       [ 3.91859392e-01,  3.74539575e-01,  3.68727417e-01],\n",
       "       [-7.97919070e-01, -1.48731312e+00, -3.19867999e-01],\n",
       "       [ 4.51194142e-01,  7.14288379e-01,  6.33908578e-01],\n",
       "       [-1.31122076e+00,  8.69005435e-02, -1.55638728e+00],\n",
       "       [ 5.90132545e-02, -9.09421666e-01, -6.25080820e-01],\n",
       "       [ 1.55817222e+00, -2.21929290e-01,  1.52606805e+00],\n",
       "       [-8.88692290e-03, -7.61769392e-02,  8.17836494e-01],\n",
       "       [-1.01622255e+00, -2.26389541e-01, -3.39405721e-01],\n",
       "       [ 2.08233152e-02,  6.80903861e-01, -6.82930168e-01],\n",
       "       [-6.22737080e-01,  1.16160191e+00, -2.47414699e-03],\n",
       "       [ 4.14194834e-02, -3.92275067e-01,  7.76566410e-01],\n",
       "       [-1.85749578e-01,  2.04626468e+00, -8.23918592e-01],\n",
       "       [ 1.01422332e+00,  1.12095265e+00,  4.02844288e-01],\n",
       "       [ 2.02524915e+00, -8.20592940e-02,  4.49509603e-01],\n",
       "       [-2.76085126e-01, -3.29378437e-01, -1.06345511e+00],\n",
       "       [ 1.02756711e+00,  8.43393499e-01,  8.91372639e-01],\n",
       "       [-1.62718654e+00, -3.23176277e-01,  7.62823783e-01],\n",
       "       [-2.44592020e-01,  1.52042544e-01, -1.46283979e+00],\n",
       "       [ 1.08974282e+00, -5.76220709e-01,  8.32575233e-01],\n",
       "       [-1.64440758e+00, -2.59489271e+00, -1.87143870e+00],\n",
       "       [-1.13007940e+00, -1.01903854e+00, -5.59238102e-01],\n",
       "       [ 6.12757131e-01, -5.08326330e-01,  1.60337517e-01],\n",
       "       [-2.95191897e-01,  9.84610079e-01, -1.08928231e+00],\n",
       "       [ 2.67775823e-01,  1.01340635e+00,             nan],\n",
       "       [-1.65647706e+00,  3.72123311e-01, -1.87143870e+00],\n",
       "       [ 4.33527783e-01,  8.47051640e-02,  3.43676188e-01],\n",
       "       [ 1.96398324e+00,  9.37655833e-01,  2.06423391e+00],\n",
       "       [-6.75199316e-01, -2.61120241e+00, -1.24545568e-01],\n",
       "       [ 1.24478911e+00,  7.30331100e-01,  1.00010174e+00],\n",
       "       [-5.09026696e-02,  1.03998763e-01,  1.25994326e+00],\n",
       "       [ 1.34092037e+00,  7.89498918e-01, -7.39081736e-01]])"
      ]
     },
     "execution_count": 47,
     "metadata": {},
     "output_type": "execute_result"
    }
   ],
   "source": [
    "scaler.transform(X_train)"
   ]
  },
  {
   "cell_type": "code",
   "execution_count": 48,
   "id": "bd3cca60",
   "metadata": {},
   "outputs": [],
   "source": [
    "X_train_scaled = scaler.transform(X_train)"
   ]
  },
  {
   "cell_type": "code",
   "execution_count": 49,
   "id": "3ec13b55",
   "metadata": {},
   "outputs": [
    {
     "name": "stdout",
     "output_type": "stream",
     "text": [
      "[[ 8.89717626e-02  1.02260057e+00  7.86078197e-01]\n",
      " [-1.16265933e+00  1.05921540e+00 -1.62021871e+00]\n",
      " [-1.03540303e+00 -1.42602261e+00 -4.13216097e-01]\n",
      " [-1.52772864e-01 -6.80038192e-01  8.30687718e-01]\n",
      " [-1.01823922e+00  7.53389916e-02 -8.82173899e-02]\n",
      " [ 1.27994259e+00 -8.90510982e-01  1.34574591e+00]\n",
      " [ 3.91859392e-01  3.74539575e-01  3.68727417e-01]\n",
      " [-7.97919070e-01 -1.48731312e+00 -3.19867999e-01]\n",
      " [ 4.51194142e-01  7.14288379e-01  6.33908578e-01]\n",
      " [-1.31122076e+00  8.69005435e-02 -1.55638728e+00]\n",
      " [ 5.90132545e-02 -9.09421666e-01 -6.25080820e-01]\n",
      " [ 1.55817222e+00 -2.21929290e-01  1.52606805e+00]\n",
      " [-8.88692290e-03 -7.61769392e-02  8.17836494e-01]\n",
      " [-1.01622255e+00 -2.26389541e-01 -3.39405721e-01]\n",
      " [ 2.08233152e-02  6.80903861e-01 -6.82930168e-01]\n",
      " [-6.22737080e-01  1.16160191e+00 -2.47414699e-03]\n",
      " [ 4.14194834e-02 -3.92275067e-01  7.76566410e-01]\n",
      " [-1.85749578e-01  2.04626468e+00 -8.23918592e-01]\n",
      " [ 1.01422332e+00  1.12095265e+00  4.02844288e-01]\n",
      " [ 2.02524915e+00 -8.20592940e-02  4.49509603e-01]\n",
      " [-2.76085126e-01 -3.29378437e-01 -1.06345511e+00]\n",
      " [ 1.02756711e+00  8.43393499e-01  8.91372639e-01]\n",
      " [-1.62718654e+00 -3.23176277e-01  7.62823783e-01]\n",
      " [-2.44592020e-01  1.52042544e-01 -1.46283979e+00]\n",
      " [ 1.08974282e+00 -5.76220709e-01  8.32575233e-01]\n",
      " [-1.64440758e+00 -2.59489271e+00 -1.87143870e+00]\n",
      " [-1.13007940e+00 -1.01903854e+00 -5.59238102e-01]\n",
      " [ 6.12757131e-01 -5.08326330e-01  1.60337517e-01]\n",
      " [-2.95191897e-01  9.84610079e-01 -1.08928231e+00]\n",
      " [ 2.67775823e-01  1.01340635e+00             nan]\n",
      " [-1.65647706e+00  3.72123311e-01 -1.87143870e+00]\n",
      " [ 4.33527783e-01  8.47051640e-02  3.43676188e-01]\n",
      " [ 1.96398324e+00  9.37655833e-01  2.06423391e+00]\n",
      " [-6.75199316e-01 -2.61120241e+00 -1.24545568e-01]\n",
      " [ 1.24478911e+00  7.30331100e-01  1.00010174e+00]\n",
      " [-5.09026696e-02  1.03998763e-01  1.25994326e+00]\n",
      " [ 1.34092037e+00  7.89498918e-01 -7.39081736e-01]]\n"
     ]
    }
   ],
   "source": [
    "print(X_train_scaled)"
   ]
  },
  {
   "cell_type": "code",
   "execution_count": 50,
   "id": "13b7b3e6",
   "metadata": {},
   "outputs": [
    {
     "name": "stdout",
     "output_type": "stream",
     "text": [
      "[-6.60132609e-17  9.60192886e-16             nan]\n"
     ]
    }
   ],
   "source": [
    "print(X_train_scaled.mean(axis=0))"
   ]
  },
  {
   "cell_type": "code",
   "execution_count": 51,
   "id": "033740f5",
   "metadata": {},
   "outputs": [
    {
     "name": "stdout",
     "output_type": "stream",
     "text": [
      "[ 1.  1. nan]\n"
     ]
    }
   ],
   "source": [
    "print(X_train_scaled.std(axis=0))"
   ]
  },
  {
   "cell_type": "code",
   "execution_count": 52,
   "id": "517e78b5",
   "metadata": {},
   "outputs": [
    {
     "data": {
      "text/html": [
       "<div>\n",
       "<style scoped>\n",
       "    .dataframe tbody tr th:only-of-type {\n",
       "        vertical-align: middle;\n",
       "    }\n",
       "\n",
       "    .dataframe tbody tr th {\n",
       "        vertical-align: top;\n",
       "    }\n",
       "\n",
       "    .dataframe thead th {\n",
       "        text-align: right;\n",
       "    }\n",
       "</style>\n",
       "<table border=\"1\" class=\"dataframe\">\n",
       "  <thead>\n",
       "    <tr style=\"text-align: right;\">\n",
       "      <th></th>\n",
       "      <th>Marketing Spend</th>\n",
       "      <th>Administration</th>\n",
       "      <th>Transport</th>\n",
       "    </tr>\n",
       "  </thead>\n",
       "  <tbody>\n",
       "    <tr>\n",
       "      <th>33</th>\n",
       "      <td>55493.95</td>\n",
       "      <td>103057.49</td>\n",
       "      <td>214634.81</td>\n",
       "    </tr>\n",
       "    <tr>\n",
       "      <th>29</th>\n",
       "      <td>65605.48</td>\n",
       "      <td>153032.06</td>\n",
       "      <td>107138.38</td>\n",
       "    </tr>\n",
       "    <tr>\n",
       "      <th>49</th>\n",
       "      <td>0.00</td>\n",
       "      <td>116983.80</td>\n",
       "      <td>45173.06</td>\n",
       "    </tr>\n",
       "    <tr>\n",
       "      <th>38</th>\n",
       "      <td>20229.59</td>\n",
       "      <td>65947.93</td>\n",
       "      <td>185265.10</td>\n",
       "    </tr>\n",
       "    <tr>\n",
       "      <th>45</th>\n",
       "      <td>1000.23</td>\n",
       "      <td>124153.04</td>\n",
       "      <td>1903.93</td>\n",
       "    </tr>\n",
       "  </tbody>\n",
       "</table>\n",
       "</div>"
      ],
      "text/plain": [
       "    Marketing Spend  Administration  Transport\n",
       "33         55493.95       103057.49  214634.81\n",
       "29         65605.48       153032.06  107138.38\n",
       "49             0.00       116983.80   45173.06\n",
       "38         20229.59        65947.93  185265.10\n",
       "45          1000.23       124153.04    1903.93"
      ]
     },
     "execution_count": 52,
     "metadata": {},
     "output_type": "execute_result"
    }
   ],
   "source": [
    "X_test.head()"
   ]
  },
  {
   "cell_type": "code",
   "execution_count": 53,
   "id": "6fe7064a",
   "metadata": {},
   "outputs": [],
   "source": [
    "scaler = StandardScaler().fit(X_test)"
   ]
  },
  {
   "cell_type": "code",
   "execution_count": 54,
   "id": "26c4c54d",
   "metadata": {},
   "outputs": [
    {
     "data": {
      "text/plain": [
       "array([ 71808.82076923, 111136.46076923, 227114.82923077])"
      ]
     },
     "execution_count": 54,
     "metadata": {},
     "output_type": "execute_result"
    }
   ],
   "source": [
    "scaler.mean_"
   ]
  },
  {
   "cell_type": "code",
   "execution_count": 55,
   "id": "e5aeea22",
   "metadata": {},
   "outputs": [
    {
     "data": {
      "text/plain": [
       "array([ 46864.26302872,  23534.80955469, 132121.53008265])"
      ]
     },
     "execution_count": 55,
     "metadata": {},
     "output_type": "execute_result"
    }
   ],
   "source": [
    "scaler.scale_"
   ]
  },
  {
   "cell_type": "code",
   "execution_count": 56,
   "id": "94997d2b",
   "metadata": {},
   "outputs": [
    {
     "data": {
      "text/plain": [
       "array([[-0.34813032, -0.34327751, -0.09445863],\n",
       "       [-0.13236826,  1.78015459, -0.90807644],\n",
       "       [-1.53227249,  0.24845492, -1.37707888],\n",
       "       [-1.10060902, -1.92007208, -0.31675178],\n",
       "       [-1.51092936,  0.55307774, -1.7045738 ],\n",
       "       [ 0.91145761,  1.09460581,  1.85185012],\n",
       "       [ 0.42549136,  0.12914187,  0.51319978],\n",
       "       [ 1.50004534, -0.8389569 ,  1.05246731],\n",
       "       [ 0.61588804, -0.82201008,  0.17127958],\n",
       "       [ 1.74189636, -0.42451632,  1.36858626],\n",
       "       [ 0.13238849,  0.44449432,  0.28179533],\n",
       "       [-0.55041516, -1.10852908, -0.16346457],\n",
       "       [-0.15244261,  1.20743272, -0.67477427]])"
      ]
     },
     "execution_count": 56,
     "metadata": {},
     "output_type": "execute_result"
    }
   ],
   "source": [
    "scaler.transform(X_test)"
   ]
  },
  {
   "cell_type": "code",
   "execution_count": 57,
   "id": "12624315",
   "metadata": {},
   "outputs": [],
   "source": [
    "X_test_scaled =  scaler.transform(X_test)"
   ]
  },
  {
   "cell_type": "code",
   "execution_count": 58,
   "id": "c0fe0783",
   "metadata": {},
   "outputs": [
    {
     "name": "stdout",
     "output_type": "stream",
     "text": [
      "[[-0.34813032 -0.34327751 -0.09445863]\n",
      " [-0.13236826  1.78015459 -0.90807644]\n",
      " [-1.53227249  0.24845492 -1.37707888]\n",
      " [-1.10060902 -1.92007208 -0.31675178]\n",
      " [-1.51092936  0.55307774 -1.7045738 ]\n",
      " [ 0.91145761  1.09460581  1.85185012]\n",
      " [ 0.42549136  0.12914187  0.51319978]\n",
      " [ 1.50004534 -0.8389569   1.05246731]\n",
      " [ 0.61588804 -0.82201008  0.17127958]\n",
      " [ 1.74189636 -0.42451632  1.36858626]\n",
      " [ 0.13238849  0.44449432  0.28179533]\n",
      " [-0.55041516 -1.10852908 -0.16346457]\n",
      " [-0.15244261  1.20743272 -0.67477427]]\n"
     ]
    }
   ],
   "source": [
    "print(X_test_scaled)"
   ]
  },
  {
   "cell_type": "code",
   "execution_count": 59,
   "id": "461dacd5",
   "metadata": {},
   "outputs": [
    {
     "name": "stdout",
     "output_type": "stream",
     "text": [
      "[ 1.34507790e-16  9.05258774e-16 -1.79343719e-16]\n"
     ]
    }
   ],
   "source": [
    "print(X_test_scaled.mean(axis=0))"
   ]
  },
  {
   "cell_type": "code",
   "execution_count": 60,
   "id": "e8489014",
   "metadata": {},
   "outputs": [
    {
     "name": "stdout",
     "output_type": "stream",
     "text": [
      "[1. 1. 1.]\n"
     ]
    }
   ],
   "source": [
    "print(X_test_scaled.std(axis=0))"
   ]
  },
  {
   "cell_type": "markdown",
   "id": "ab6676a5",
   "metadata": {},
   "source": [
    "# Max abs scaler"
   ]
  },
  {
   "cell_type": "code",
   "execution_count": null,
   "id": "d9a2684e",
   "metadata": {},
   "outputs": [],
   "source": [
    "#https://scikit-learn.org/stable/modules/generated/sklearn.preprocessing.MaxAbsScaler.html"
   ]
  },
  {
   "cell_type": "code",
   "execution_count": 61,
   "id": "c79381ec",
   "metadata": {},
   "outputs": [],
   "source": [
    "from sklearn.preprocessing import MaxAbsScaler\n",
    "from sklearn.model_selection import train_test_split"
   ]
  },
  {
   "cell_type": "code",
   "execution_count": 62,
   "id": "9f0ca73b",
   "metadata": {},
   "outputs": [],
   "source": [
    "X_train, X_test, Y_train, Y_test = train_test_split(X,Y, random_state=50)"
   ]
  },
  {
   "cell_type": "code",
   "execution_count": 63,
   "id": "596210e4",
   "metadata": {},
   "outputs": [
    {
     "data": {
      "text/html": [
       "<div>\n",
       "<style scoped>\n",
       "    .dataframe tbody tr th:only-of-type {\n",
       "        vertical-align: middle;\n",
       "    }\n",
       "\n",
       "    .dataframe tbody tr th {\n",
       "        vertical-align: top;\n",
       "    }\n",
       "\n",
       "    .dataframe thead th {\n",
       "        text-align: right;\n",
       "    }\n",
       "</style>\n",
       "<table border=\"1\" class=\"dataframe\">\n",
       "  <thead>\n",
       "    <tr style=\"text-align: right;\">\n",
       "      <th></th>\n",
       "      <th>Marketing Spend</th>\n",
       "      <th>Administration</th>\n",
       "      <th>Transport</th>\n",
       "    </tr>\n",
       "  </thead>\n",
       "  <tbody>\n",
       "    <tr>\n",
       "      <th>23</th>\n",
       "      <td>67532.53</td>\n",
       "      <td>105751.03</td>\n",
       "      <td>304768.73</td>\n",
       "    </tr>\n",
       "    <tr>\n",
       "      <th>25</th>\n",
       "      <td>64664.71</td>\n",
       "      <td>139553.16</td>\n",
       "      <td>137962.62</td>\n",
       "    </tr>\n",
       "    <tr>\n",
       "      <th>3</th>\n",
       "      <td>144372.41</td>\n",
       "      <td>118671.85</td>\n",
       "      <td>383199.62</td>\n",
       "    </tr>\n",
       "    <tr>\n",
       "      <th>39</th>\n",
       "      <td>38558.51</td>\n",
       "      <td>82982.09</td>\n",
       "      <td>174999.30</td>\n",
       "    </tr>\n",
       "    <tr>\n",
       "      <th>15</th>\n",
       "      <td>165349.20</td>\n",
       "      <td>122616.84</td>\n",
       "      <td>261776.23</td>\n",
       "    </tr>\n",
       "  </tbody>\n",
       "</table>\n",
       "</div>"
      ],
      "text/plain": [
       "    Marketing Spend  Administration  Transport\n",
       "23         67532.53       105751.03  304768.73\n",
       "25         64664.71       139553.16  137962.62\n",
       "3         144372.41       118671.85  383199.62\n",
       "39         38558.51        82982.09  174999.30\n",
       "15        165349.20       122616.84  261776.23"
      ]
     },
     "execution_count": 63,
     "metadata": {},
     "output_type": "execute_result"
    }
   ],
   "source": [
    "X_train.head()"
   ]
  },
  {
   "cell_type": "code",
   "execution_count": 64,
   "id": "d9b81806",
   "metadata": {},
   "outputs": [],
   "source": [
    "scaler = MaxAbsScaler().fit(X_train)"
   ]
  },
  {
   "cell_type": "code",
   "execution_count": 65,
   "id": "1b20429e",
   "metadata": {},
   "outputs": [
    {
     "name": "stdout",
     "output_type": "stream",
     "text": [
      "MaxAbsScaler()\n"
     ]
    }
   ],
   "source": [
    "print(scaler)"
   ]
  },
  {
   "cell_type": "code",
   "execution_count": 66,
   "id": "05baa515",
   "metadata": {},
   "outputs": [
    {
     "data": {
      "text/plain": [
       "array([165349.2 , 182645.56, 471784.1 ])"
      ]
     },
     "execution_count": 66,
     "metadata": {},
     "output_type": "execute_result"
    }
   ],
   "source": [
    "scaler.max_abs_"
   ]
  },
  {
   "cell_type": "code",
   "execution_count": 67,
   "id": "077df2c0",
   "metadata": {},
   "outputs": [
    {
     "data": {
      "text/plain": [
       "array([165349.2 , 182645.56, 471784.1 ])"
      ]
     },
     "execution_count": 67,
     "metadata": {},
     "output_type": "execute_result"
    }
   ],
   "source": [
    "scaler.scale_"
   ]
  },
  {
   "cell_type": "code",
   "execution_count": 68,
   "id": "742678c2",
   "metadata": {},
   "outputs": [
    {
     "data": {
      "text/html": [
       "<div>\n",
       "<style scoped>\n",
       "    .dataframe tbody tr th:only-of-type {\n",
       "        vertical-align: middle;\n",
       "    }\n",
       "\n",
       "    .dataframe tbody tr th {\n",
       "        vertical-align: top;\n",
       "    }\n",
       "\n",
       "    .dataframe thead th {\n",
       "        text-align: right;\n",
       "    }\n",
       "</style>\n",
       "<table border=\"1\" class=\"dataframe\">\n",
       "  <thead>\n",
       "    <tr style=\"text-align: right;\">\n",
       "      <th></th>\n",
       "      <th>Marketing Spend</th>\n",
       "      <th>Administration</th>\n",
       "      <th>Transport</th>\n",
       "    </tr>\n",
       "  </thead>\n",
       "  <tbody>\n",
       "    <tr>\n",
       "      <th>count</th>\n",
       "      <td>37.000000</td>\n",
       "      <td>37.000000</td>\n",
       "      <td>36.000000</td>\n",
       "    </tr>\n",
       "    <tr>\n",
       "      <th>mean</th>\n",
       "      <td>74649.290811</td>\n",
       "      <td>120666.798378</td>\n",
       "      <td>205178.838611</td>\n",
       "    </tr>\n",
       "    <tr>\n",
       "      <th>std</th>\n",
       "      <td>47232.869081</td>\n",
       "      <td>28503.174656</td>\n",
       "      <td>129350.044809</td>\n",
       "    </tr>\n",
       "    <tr>\n",
       "      <th>min</th>\n",
       "      <td>0.000000</td>\n",
       "      <td>51283.140000</td>\n",
       "      <td>0.000000</td>\n",
       "    </tr>\n",
       "    <tr>\n",
       "      <th>25%</th>\n",
       "      <td>38558.510000</td>\n",
       "      <td>103057.490000</td>\n",
       "      <td>111393.960000</td>\n",
       "    </tr>\n",
       "    <tr>\n",
       "      <th>50%</th>\n",
       "      <td>72107.600000</td>\n",
       "      <td>122616.840000</td>\n",
       "      <td>205832.115000</td>\n",
       "    </tr>\n",
       "    <tr>\n",
       "      <th>75%</th>\n",
       "      <td>114523.610000</td>\n",
       "      <td>144135.980000</td>\n",
       "      <td>303681.627500</td>\n",
       "    </tr>\n",
       "    <tr>\n",
       "      <th>max</th>\n",
       "      <td>165349.200000</td>\n",
       "      <td>182645.560000</td>\n",
       "      <td>471784.100000</td>\n",
       "    </tr>\n",
       "  </tbody>\n",
       "</table>\n",
       "</div>"
      ],
      "text/plain": [
       "       Marketing Spend  Administration      Transport\n",
       "count        37.000000       37.000000      36.000000\n",
       "mean      74649.290811   120666.798378  205178.838611\n",
       "std       47232.869081    28503.174656  129350.044809\n",
       "min           0.000000    51283.140000       0.000000\n",
       "25%       38558.510000   103057.490000  111393.960000\n",
       "50%       72107.600000   122616.840000  205832.115000\n",
       "75%      114523.610000   144135.980000  303681.627500\n",
       "max      165349.200000   182645.560000  471784.100000"
      ]
     },
     "execution_count": 68,
     "metadata": {},
     "output_type": "execute_result"
    }
   ],
   "source": [
    "\n",
    "X_train.describe()"
   ]
  },
  {
   "cell_type": "code",
   "execution_count": 69,
   "id": "b93d34e1",
   "metadata": {},
   "outputs": [
    {
     "data": {
      "text/plain": [
       "array([[0.40842369, 0.5789959 , 0.64599195],\n",
       "       [0.39107967, 0.76406544, 0.29242745],\n",
       "       [0.87313643, 0.64973849, 0.81223513],\n",
       "       [0.23319442, 0.45433401, 0.3709309 ],\n",
       "       [1.        , 0.67133764, 0.55486446],\n",
       "       [0.16869099, 0.46379868, 0.34861436],\n",
       "       [0.52264964, 0.84050283,        nan],\n",
       "       [0.        , 0.64049627, 0.09574943],\n",
       "       [0.69261666, 0.74952712, 1.        ],\n",
       "       [0.74590551, 0.59502771, 0.64644319],\n",
       "       [0.61635061, 0.60551217, 0.48573267],\n",
       "       [0.47408436, 0.84192263, 0.63532724],\n",
       "       [0.57246821, 0.79431211, 0.59894835],\n",
       "       [0.        , 0.74147392, 0.        ],\n",
       "       [0.46116861, 0.62343317, 0.63305328],\n",
       "       [0.17390063, 0.64904972, 0.36626005],\n",
       "       [0.13412668, 0.8475768 , 0.06005866],\n",
       "       [0.45557444, 0.78915677, 0.28413435],\n",
       "       [0.43609283, 0.7000693 , 0.74861321],\n",
       "       [0.39946683, 1.        , 0.25042853],\n",
       "       [0.72539353, 0.85711046, 0.54370828],\n",
       "       [0.09377566, 0.69742894, 0.07531871],\n",
       "       [0.7880179 , 0.79678948, 0.68649342],\n",
       "       [0.36974101, 0.83605602, 0.18698856],\n",
       "       [0.92798459, 0.5537805 , 0.8646636 ],\n",
       "       [0.797566  , 0.54649404, 0.76912588],\n",
       "       [0.4475048 , 0.67224602, 0.64291963],\n",
       "       [0.14297577, 0.52664642, 0.31370517],\n",
       "       [0.26652654, 0.28077956, 0.41762624],\n",
       "       [0.81412828, 0.80592635, 0.27071031],\n",
       "       [0.85943772, 0.50037773, 0.77613557],\n",
       "       [0.37493063, 0.63314586, 0.19316302],\n",
       "       [0.33561668, 0.56424854, 0.45494286],\n",
       "       [0.0060492 , 0.67974847, 0.0040356 ],\n",
       "       [0.60884455, 0.50256141, 0.52936195],\n",
       "       [0.38348453, 0.70748837, 0.09768292],\n",
       "       [0.00327821, 0.28329815, 0.        ]])"
      ]
     },
     "execution_count": 69,
     "metadata": {},
     "output_type": "execute_result"
    }
   ],
   "source": [
    "scaler.transform(X_train)"
   ]
  },
  {
   "cell_type": "code",
   "execution_count": 70,
   "id": "16faf067",
   "metadata": {},
   "outputs": [],
   "source": [
    "X_train_scaled = scaler.transform(X_train)"
   ]
  },
  {
   "cell_type": "code",
   "execution_count": 71,
   "id": "80dde74f",
   "metadata": {},
   "outputs": [
    {
     "name": "stdout",
     "output_type": "stream",
     "text": [
      "[[0.40842369 0.5789959  0.64599195]\n",
      " [0.39107967 0.76406544 0.29242745]\n",
      " [0.87313643 0.64973849 0.81223513]\n",
      " [0.23319442 0.45433401 0.3709309 ]\n",
      " [1.         0.67133764 0.55486446]\n",
      " [0.16869099 0.46379868 0.34861436]\n",
      " [0.52264964 0.84050283        nan]\n",
      " [0.         0.64049627 0.09574943]\n",
      " [0.69261666 0.74952712 1.        ]\n",
      " [0.74590551 0.59502771 0.64644319]\n",
      " [0.61635061 0.60551217 0.48573267]\n",
      " [0.47408436 0.84192263 0.63532724]\n",
      " [0.57246821 0.79431211 0.59894835]\n",
      " [0.         0.74147392 0.        ]\n",
      " [0.46116861 0.62343317 0.63305328]\n",
      " [0.17390063 0.64904972 0.36626005]\n",
      " [0.13412668 0.8475768  0.06005866]\n",
      " [0.45557444 0.78915677 0.28413435]\n",
      " [0.43609283 0.7000693  0.74861321]\n",
      " [0.39946683 1.         0.25042853]\n",
      " [0.72539353 0.85711046 0.54370828]\n",
      " [0.09377566 0.69742894 0.07531871]\n",
      " [0.7880179  0.79678948 0.68649342]\n",
      " [0.36974101 0.83605602 0.18698856]\n",
      " [0.92798459 0.5537805  0.8646636 ]\n",
      " [0.797566   0.54649404 0.76912588]\n",
      " [0.4475048  0.67224602 0.64291963]\n",
      " [0.14297577 0.52664642 0.31370517]\n",
      " [0.26652654 0.28077956 0.41762624]\n",
      " [0.81412828 0.80592635 0.27071031]\n",
      " [0.85943772 0.50037773 0.77613557]\n",
      " [0.37493063 0.63314586 0.19316302]\n",
      " [0.33561668 0.56424854 0.45494286]\n",
      " [0.0060492  0.67974847 0.0040356 ]\n",
      " [0.60884455 0.50256141 0.52936195]\n",
      " [0.38348453 0.70748837 0.09768292]\n",
      " [0.00327821 0.28329815 0.        ]]\n"
     ]
    }
   ],
   "source": [
    "print(X_train_scaled)"
   ]
  },
  {
   "cell_type": "code",
   "execution_count": 72,
   "id": "86d5d7bf",
   "metadata": {},
   "outputs": [],
   "source": [
    "scaler = MaxAbsScaler().fit(X_test)"
   ]
  },
  {
   "cell_type": "code",
   "execution_count": 73,
   "id": "a91701ac",
   "metadata": {},
   "outputs": [
    {
     "name": "stdout",
     "output_type": "stream",
     "text": [
      "MaxAbsScaler()\n"
     ]
    }
   ],
   "source": [
    "print(scaler)"
   ]
  },
  {
   "cell_type": "code",
   "execution_count": 74,
   "id": "f8928ca8",
   "metadata": {},
   "outputs": [
    {
     "data": {
      "text/plain": [
       "array([162597.7 , 157693.92, 443898.53])"
      ]
     },
     "execution_count": 74,
     "metadata": {},
     "output_type": "execute_result"
    }
   ],
   "source": [
    "scaler.max_abs_"
   ]
  },
  {
   "cell_type": "code",
   "execution_count": 75,
   "id": "b1e8156a",
   "metadata": {},
   "outputs": [
    {
     "data": {
      "text/plain": [
       "array([162597.7 , 157693.92, 443898.53])"
      ]
     },
     "execution_count": 75,
     "metadata": {},
     "output_type": "execute_result"
    }
   ],
   "source": [
    "scaler.scale_"
   ]
  },
  {
   "cell_type": "code",
   "execution_count": 76,
   "id": "28bc0e40",
   "metadata": {},
   "outputs": [
    {
     "data": {
      "text/html": [
       "<div>\n",
       "<style scoped>\n",
       "    .dataframe tbody tr th:only-of-type {\n",
       "        vertical-align: middle;\n",
       "    }\n",
       "\n",
       "    .dataframe tbody tr th {\n",
       "        vertical-align: top;\n",
       "    }\n",
       "\n",
       "    .dataframe thead th {\n",
       "        text-align: right;\n",
       "    }\n",
       "</style>\n",
       "<table border=\"1\" class=\"dataframe\">\n",
       "  <thead>\n",
       "    <tr style=\"text-align: right;\">\n",
       "      <th></th>\n",
       "      <th>Marketing Spend</th>\n",
       "      <th>Administration</th>\n",
       "      <th>Transport</th>\n",
       "    </tr>\n",
       "  </thead>\n",
       "  <tbody>\n",
       "    <tr>\n",
       "      <th>count</th>\n",
       "      <td>13.000000</td>\n",
       "      <td>13.000000</td>\n",
       "      <td>13.000000</td>\n",
       "    </tr>\n",
       "    <tr>\n",
       "      <th>mean</th>\n",
       "      <td>71081.309231</td>\n",
       "      <td>123273.880000</td>\n",
       "      <td>243447.438462</td>\n",
       "    </tr>\n",
       "    <tr>\n",
       "      <th>std</th>\n",
       "      <td>43596.054716</td>\n",
       "      <td>27616.368336</td>\n",
       "      <td>85519.568185</td>\n",
       "    </tr>\n",
       "    <tr>\n",
       "      <th>min</th>\n",
       "      <td>1315.460000</td>\n",
       "      <td>65947.930000</td>\n",
       "      <td>107138.380000</td>\n",
       "    </tr>\n",
       "    <tr>\n",
       "      <th>25%</th>\n",
       "      <td>46014.020000</td>\n",
       "      <td>114175.790000</td>\n",
       "      <td>201126.820000</td>\n",
       "    </tr>\n",
       "    <tr>\n",
       "      <th>50%</th>\n",
       "      <td>77044.010000</td>\n",
       "      <td>127056.210000</td>\n",
       "      <td>249839.440000</td>\n",
       "    </tr>\n",
       "    <tr>\n",
       "      <th>75%</th>\n",
       "      <td>91992.390000</td>\n",
       "      <td>148718.950000</td>\n",
       "      <td>294919.570000</td>\n",
       "    </tr>\n",
       "    <tr>\n",
       "      <th>max</th>\n",
       "      <td>162597.700000</td>\n",
       "      <td>157693.920000</td>\n",
       "      <td>443898.530000</td>\n",
       "    </tr>\n",
       "  </tbody>\n",
       "</table>\n",
       "</div>"
      ],
      "text/plain": [
       "       Marketing Spend  Administration      Transport\n",
       "count        13.000000       13.000000      13.000000\n",
       "mean      71081.309231   123273.880000  243447.438462\n",
       "std       43596.054716    27616.368336   85519.568185\n",
       "min        1315.460000    65947.930000  107138.380000\n",
       "25%       46014.020000   114175.790000  201126.820000\n",
       "50%       77044.010000   127056.210000  249839.440000\n",
       "75%       91992.390000   148718.950000  294919.570000\n",
       "max      162597.700000   157693.920000  443898.530000"
      ]
     },
     "execution_count": 76,
     "metadata": {},
     "output_type": "execute_result"
    }
   ],
   "source": [
    "X_test.describe()"
   ]
  },
  {
   "cell_type": "code",
   "execution_count": 77,
   "id": "d194ac92",
   "metadata": {},
   "outputs": [
    {
     "data": {
      "text/plain": [
       "array([[0.28552722, 1.        , 0.47487805],\n",
       "       [0.17628638, 0.80571407, 0.45309188],\n",
       "       [1.        , 0.95994563, 1.        ],\n",
       "       [0.12441498, 0.41820211, 0.41735912],\n",
       "       [0.7413544 , 0.94308614, 0.70199216],\n",
       "       [0.47979221, 0.77109853, 0.5955101 ],\n",
       "       [0.28299306, 0.53931972, 0.46298338],\n",
       "       [0.56576686, 0.85922824, 0.56919524],\n",
       "       [0.40348344, 0.97043729, 0.24135782],\n",
       "       [0.4738321 , 0.62958255, 0.31668231],\n",
       "       [0.56427096, 0.72403419, 0.6643851 ],\n",
       "       [0.00809027, 0.73443675, 0.66932968],\n",
       "       [0.577276  , 0.80738928, 0.56283007]])"
      ]
     },
     "execution_count": 77,
     "metadata": {},
     "output_type": "execute_result"
    }
   ],
   "source": [
    "scaler.transform(X_test)"
   ]
  },
  {
   "cell_type": "code",
   "execution_count": 78,
   "id": "1ace394e",
   "metadata": {},
   "outputs": [],
   "source": [
    "X_test_scaled = scaler.transform(X_test)"
   ]
  },
  {
   "cell_type": "code",
   "execution_count": 79,
   "id": "2d9051c4",
   "metadata": {},
   "outputs": [
    {
     "name": "stdout",
     "output_type": "stream",
     "text": [
      "[[0.28552722 1.         0.47487805]\n",
      " [0.17628638 0.80571407 0.45309188]\n",
      " [1.         0.95994563 1.        ]\n",
      " [0.12441498 0.41820211 0.41735912]\n",
      " [0.7413544  0.94308614 0.70199216]\n",
      " [0.47979221 0.77109853 0.5955101 ]\n",
      " [0.28299306 0.53931972 0.46298338]\n",
      " [0.56576686 0.85922824 0.56919524]\n",
      " [0.40348344 0.97043729 0.24135782]\n",
      " [0.4738321  0.62958255 0.31668231]\n",
      " [0.56427096 0.72403419 0.6643851 ]\n",
      " [0.00809027 0.73443675 0.66932968]\n",
      " [0.577276   0.80738928 0.56283007]]\n"
     ]
    }
   ],
   "source": [
    "print(X_test_scaled)"
   ]
  },
  {
   "cell_type": "markdown",
   "id": "96d96e9b",
   "metadata": {},
   "source": [
    "# Robust Scaler"
   ]
  },
  {
   "cell_type": "code",
   "execution_count": null,
   "id": "fe64bdf5",
   "metadata": {},
   "outputs": [],
   "source": [
    "#https://scikit-learn.org/stable/modules/generated/sklearn.preprocessing.RobustScaler.html"
   ]
  },
  {
   "cell_type": "code",
   "execution_count": 80,
   "id": "6900da22",
   "metadata": {},
   "outputs": [],
   "source": [
    "from sklearn.preprocessing import RobustScaler\n",
    "from sklearn.model_selection import train_test_split"
   ]
  },
  {
   "cell_type": "code",
   "execution_count": 81,
   "id": "de634942",
   "metadata": {},
   "outputs": [],
   "source": [
    "X_train, X_test, Y_train, Y_test = train_test_split(X,Y, random_state = 50)"
   ]
  },
  {
   "cell_type": "code",
   "execution_count": 82,
   "id": "9bb723d6",
   "metadata": {},
   "outputs": [
    {
     "data": {
      "text/html": [
       "<div>\n",
       "<style scoped>\n",
       "    .dataframe tbody tr th:only-of-type {\n",
       "        vertical-align: middle;\n",
       "    }\n",
       "\n",
       "    .dataframe tbody tr th {\n",
       "        vertical-align: top;\n",
       "    }\n",
       "\n",
       "    .dataframe thead th {\n",
       "        text-align: right;\n",
       "    }\n",
       "</style>\n",
       "<table border=\"1\" class=\"dataframe\">\n",
       "  <thead>\n",
       "    <tr style=\"text-align: right;\">\n",
       "      <th></th>\n",
       "      <th>Marketing Spend</th>\n",
       "      <th>Administration</th>\n",
       "      <th>Transport</th>\n",
       "    </tr>\n",
       "  </thead>\n",
       "  <tbody>\n",
       "    <tr>\n",
       "      <th>23</th>\n",
       "      <td>67532.53</td>\n",
       "      <td>105751.03</td>\n",
       "      <td>304768.73</td>\n",
       "    </tr>\n",
       "    <tr>\n",
       "      <th>25</th>\n",
       "      <td>64664.71</td>\n",
       "      <td>139553.16</td>\n",
       "      <td>137962.62</td>\n",
       "    </tr>\n",
       "    <tr>\n",
       "      <th>3</th>\n",
       "      <td>144372.41</td>\n",
       "      <td>118671.85</td>\n",
       "      <td>383199.62</td>\n",
       "    </tr>\n",
       "    <tr>\n",
       "      <th>39</th>\n",
       "      <td>38558.51</td>\n",
       "      <td>82982.09</td>\n",
       "      <td>174999.30</td>\n",
       "    </tr>\n",
       "    <tr>\n",
       "      <th>15</th>\n",
       "      <td>165349.20</td>\n",
       "      <td>122616.84</td>\n",
       "      <td>261776.23</td>\n",
       "    </tr>\n",
       "  </tbody>\n",
       "</table>\n",
       "</div>"
      ],
      "text/plain": [
       "    Marketing Spend  Administration  Transport\n",
       "23         67532.53       105751.03  304768.73\n",
       "25         64664.71       139553.16  137962.62\n",
       "3         144372.41       118671.85  383199.62\n",
       "39         38558.51        82982.09  174999.30\n",
       "15        165349.20       122616.84  261776.23"
      ]
     },
     "execution_count": 82,
     "metadata": {},
     "output_type": "execute_result"
    }
   ],
   "source": [
    "X_train.head()"
   ]
  },
  {
   "cell_type": "code",
   "execution_count": 83,
   "id": "dbd8eae2",
   "metadata": {},
   "outputs": [],
   "source": [
    "scaler = RobustScaler().fit(X_train)"
   ]
  },
  {
   "cell_type": "code",
   "execution_count": 84,
   "id": "ca26c5c0",
   "metadata": {},
   "outputs": [
    {
     "name": "stdout",
     "output_type": "stream",
     "text": [
      "RobustScaler()\n"
     ]
    }
   ],
   "source": [
    "print(scaler)"
   ]
  },
  {
   "cell_type": "code",
   "execution_count": 85,
   "id": "4c53e832",
   "metadata": {},
   "outputs": [
    {
     "data": {
      "text/plain": [
       "3"
      ]
     },
     "execution_count": 85,
     "metadata": {},
     "output_type": "execute_result"
    }
   ],
   "source": [
    "scaler.n_features_in_"
   ]
  },
  {
   "cell_type": "code",
   "execution_count": 86,
   "id": "d8831650",
   "metadata": {},
   "outputs": [
    {
     "data": {
      "text/plain": [
       "array([[-0.06022595, -0.41057522,  0.51452397],\n",
       "       [-0.09797776,  0.41229169, -0.35295813],\n",
       "       [ 0.95128961, -0.09603542,  0.92240708],\n",
       "       [-0.4416382 , -0.96485411, -0.16034733],\n",
       "       [ 1.22742681,  0.        ,  0.29093969],\n",
       "       [-0.58203938, -0.92277175, -0.2151017 ],\n",
       "       [ 0.18840362,  0.75215204,         nan],\n",
       "       [-0.9492201 , -0.1371287 , -0.83551409],\n",
       "       [ 0.5583618 ,  0.34765056,  1.38309434],\n",
       "       [ 0.67435283, -0.33929363,  0.51563112],\n",
       "       [ 0.39235754, -0.29267702,  0.12132258],\n",
       "       [ 0.08269416,  0.75846483,  0.48835776],\n",
       "       [ 0.29684105,  0.54677618,  0.39910097],\n",
       "       [-0.9492201 ,  0.31184398, -1.07043846],\n",
       "       [ 0.05458112, -0.21299566,  0.48277852],\n",
       "       [-0.57069983, -0.09909785, -0.1718074 ],\n",
       "       [-0.65727367,  0.78360475, -0.92308257],\n",
       "       [ 0.0424046 ,  0.52385421, -0.37330551],\n",
       "       [ 0.        ,  0.12774837,  0.76630861],\n",
       "       [-0.07972187,  1.46131759, -0.45600384],\n",
       "       [ 0.62970548,  0.82599385,  0.26356763],\n",
       "       [-0.74510361,  0.11600865, -0.88564153],\n",
       "       [ 0.76601663,  0.55779119,  0.61389566],\n",
       "       [-0.14442448,  0.73238038, -0.61165589],\n",
       "       [ 1.07067469, -0.52268937,  1.05104205],\n",
       "       [ 0.78679946, -0.55508686,  0.81663711],\n",
       "       [ 0.02483983,  0.00403885,  0.50698595],\n",
       "       [-0.63801232, -0.6433345 , -0.30075254],\n",
       "       [-0.36908594, -1.73652196, -0.04577878],\n",
       "       [ 0.8228497 ,  0.59841611, -0.40624184],\n",
       "       [ 0.92147236, -0.76013188,  0.83383561],\n",
       "       [-0.1331285 , -0.16981053, -0.59650666],\n",
       "       [-0.21870109, -0.47614579,  0.04577878],\n",
       "       [-0.93605313,  0.0373967 , -1.06053699],\n",
       "       [ 0.37601951, -0.75042267,  0.22836844],\n",
       "       [-0.11450969,  0.16073546, -0.83077021],\n",
       "       [-0.94208459, -1.72532364, -1.07043846]])"
      ]
     },
     "execution_count": 86,
     "metadata": {},
     "output_type": "execute_result"
    }
   ],
   "source": [
    "scaler.transform(X_train)"
   ]
  },
  {
   "cell_type": "code",
   "execution_count": 87,
   "id": "863ba1b6",
   "metadata": {},
   "outputs": [],
   "source": [
    "X_train_scaled = scaler.transform(X_train)"
   ]
  },
  {
   "cell_type": "code",
   "execution_count": 88,
   "id": "fd3a76c5",
   "metadata": {},
   "outputs": [
    {
     "name": "stdout",
     "output_type": "stream",
     "text": [
      "[[0.28552722 1.         0.47487805]\n",
      " [0.17628638 0.80571407 0.45309188]\n",
      " [1.         0.95994563 1.        ]\n",
      " [0.12441498 0.41820211 0.41735912]\n",
      " [0.7413544  0.94308614 0.70199216]\n",
      " [0.47979221 0.77109853 0.5955101 ]\n",
      " [0.28299306 0.53931972 0.46298338]\n",
      " [0.56576686 0.85922824 0.56919524]\n",
      " [0.40348344 0.97043729 0.24135782]\n",
      " [0.4738321  0.62958255 0.31668231]\n",
      " [0.56427096 0.72403419 0.6643851 ]\n",
      " [0.00809027 0.73443675 0.66932968]\n",
      " [0.577276   0.80738928 0.56283007]]\n"
     ]
    }
   ],
   "source": [
    "print(X_test_scaled)"
   ]
  },
  {
   "cell_type": "code",
   "execution_count": 89,
   "id": "99dd2cfd",
   "metadata": {},
   "outputs": [],
   "source": [
    "scaler = RobustScaler().fit(X_test)"
   ]
  },
  {
   "cell_type": "code",
   "execution_count": 90,
   "id": "0c28f611",
   "metadata": {},
   "outputs": [
    {
     "data": {
      "text/plain": [
       "array([[-0.66592052,  0.88693999, -0.41625573],\n",
       "       [-1.05223935,  0.        , -0.51936445],\n",
       "       [ 1.86073778,  0.70408671,  2.06902015],\n",
       "       [-1.23567712, -1.7690414 , -0.68847901],\n",
       "       [ 0.94606464,  0.62712097,  0.65862074],\n",
       "       [ 0.0210773 , -0.15802434,  0.15466675],\n",
       "       [-0.67488234, -1.21612412, -0.47255038],\n",
       "       [ 0.32511766,  0.24429902,  0.03012482],\n",
       "       [-0.24878068,  0.75198245, -1.52145086],\n",
       "       [ 0.        , -0.8040628 , -1.16495817],\n",
       "       [ 0.31982756, -0.37287903,  0.48063555],\n",
       "       [-1.6470473 , -0.32539003,  0.50403704],\n",
       "       [ 0.36581854,  0.00764753,  0.        ]])"
      ]
     },
     "execution_count": 90,
     "metadata": {},
     "output_type": "execute_result"
    }
   ],
   "source": [
    "scaler.transform(X_test)"
   ]
  },
  {
   "cell_type": "code",
   "execution_count": 91,
   "id": "567ff3bd",
   "metadata": {},
   "outputs": [],
   "source": [
    "X_test_scaled = scaler.transform(X_test)"
   ]
  },
  {
   "cell_type": "code",
   "execution_count": 92,
   "id": "dd3505c4",
   "metadata": {},
   "outputs": [
    {
     "name": "stdout",
     "output_type": "stream",
     "text": [
      "[[-0.66592052  0.88693999 -0.41625573]\n",
      " [-1.05223935  0.         -0.51936445]\n",
      " [ 1.86073778  0.70408671  2.06902015]\n",
      " [-1.23567712 -1.7690414  -0.68847901]\n",
      " [ 0.94606464  0.62712097  0.65862074]\n",
      " [ 0.0210773  -0.15802434  0.15466675]\n",
      " [-0.67488234 -1.21612412 -0.47255038]\n",
      " [ 0.32511766  0.24429902  0.03012482]\n",
      " [-0.24878068  0.75198245 -1.52145086]\n",
      " [ 0.         -0.8040628  -1.16495817]\n",
      " [ 0.31982756 -0.37287903  0.48063555]\n",
      " [-1.6470473  -0.32539003  0.50403704]\n",
      " [ 0.36581854  0.00764753  0.        ]]\n"
     ]
    }
   ],
   "source": [
    "print(X_test_scaled)"
   ]
  }
 ],
 "metadata": {
  "kernelspec": {
   "display_name": "Python 3 (ipykernel)",
   "language": "python",
   "name": "python3"
  },
  "language_info": {
   "codemirror_mode": {
    "name": "ipython",
    "version": 3
   },
   "file_extension": ".py",
   "mimetype": "text/x-python",
   "name": "python",
   "nbconvert_exporter": "python",
   "pygments_lexer": "ipython3",
   "version": "3.9.13"
  }
 },
 "nbformat": 4,
 "nbformat_minor": 5
}
